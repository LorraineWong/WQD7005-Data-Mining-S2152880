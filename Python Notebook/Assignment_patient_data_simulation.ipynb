{
 "cells": [
  {
   "cell_type": "markdown",
   "metadata": {
    "id": "_e3ul-5h2FDT"
   },
   "source": [
    "# **📦 0. Setup and Configuration**"
   ]
  },
  {
   "cell_type": "markdown",
   "metadata": {
    "id": "QBOEiqHAOk3q"
   },
   "source": [
    "To prepare the runtime environment for AI-assisted patient simulation and analysis by:\n",
    "\n",
    "*   Installing required dependencies\n",
    "*   Initializing credentials for Azure OpenAI and Hugging Face\n",
    "*   Validating API keys via secure secrets.json loading"
   ]
  },
  {
   "cell_type": "markdown",
   "metadata": {
    "id": "W4odbMzjN5mr"
   },
   "source": [
    "**Step 1: Install Core Dependencies**\n",
    "\n",
    "Install the essential Python libraries needed for GenAI data generation and EDA."
   ]
  },
  {
   "cell_type": "code",
   "execution_count": null,
   "metadata": {
    "colab": {
     "base_uri": "https://localhost:8080/"
    },
    "executionInfo": {
     "elapsed": 12850,
     "status": "ok",
     "timestamp": 1745638701811,
     "user": {
      "displayName": "YI TING WONG",
      "userId": "15776888317096542837"
     },
     "user_tz": -480
    },
    "id": "2kugXK56Ivlk",
    "outputId": "cfea45bd-4786-49e9-92b0-2e208a9832b3"
   },
   "outputs": [],
   "source": [
    "# Install Core Dependencies\n",
    "!pip install -q openai numpy pandas\n",
    "!pip install -q ydata-profiling\n",
    "!pip install -q transformers\n",
    "!pip install tqdm"
   ]
  },
  {
   "cell_type": "markdown",
   "metadata": {
    "id": "W-bg4zhK2yG-"
   },
   "source": [
    "**Step 2: Set Working Directory**\n",
    "\n",
    "All generated data files (e.g., raw outputs, datasets, summaries) will be saved to this path for clarity and version control."
   ]
  },
  {
   "cell_type": "code",
   "execution_count": null,
   "metadata": {
    "executionInfo": {
     "elapsed": 1,
     "status": "ok",
     "timestamp": 1745638703439,
     "user": {
      "displayName": "YI TING WONG",
      "userId": "15776888317096542837"
     },
     "user_tz": -480
    },
    "id": "_6HOZczn23Zn"
   },
   "outputs": [],
   "source": [
    "# Set Working Directory\n",
    "my_file_path = \"/content/drive/MyDrive/UM Data Science Course Information/WQD7005/Assignment Project/\""
   ]
  },
  {
   "cell_type": "markdown",
   "metadata": {
    "id": "Y0u3blm_24dq"
   },
   "source": [
    "**Step 3: Setup Hugging Face Token**\n",
    "\n",
    "plan to access transformer models (e.g., MiniLM, BERT-tiny), login to Hugging Face Hub is required."
   ]
  },
  {
   "cell_type": "code",
   "execution_count": null,
   "metadata": {
    "colab": {
     "base_uri": "https://localhost:8080/",
     "height": 17,
     "referenced_widgets": [
      "d61750f639414c2c910ed4b45dbc6f14",
      "2c10072762384b6da7c0c720317bdfee",
      "4025cc3781de417bb43671e006091a0f",
      "8b6b3b3759a240d1b64be9d8633cd932",
      "03887e1c4c3e43f7b5e7399fec98e2b5",
      "821dcee9acdd4660b85f9e90c32f35c5",
      "53a6939b7e4344d5ab32e5d74fca8a66",
      "d6911a49f4034fcf8f4f1f2e9e41b654",
      "b143c13b623541909d54ae0479b07f87",
      "e2f8cf633d06492db780bed3c5d71976",
      "29ab39b1094942ac8eadc9df6e48f282",
      "41c50f9ec28d4127b54d30f5e0b57986",
      "57475597040846929df1ab1057b2c7e8",
      "aba9c728c5fc4edc85009f3ff994e92e",
      "102cc3440b1542b88e08baa113b943ca",
      "9322058021c54ba0a8e99f6793c1b198",
      "06d4863487cb4c0f97b88ff33e1fb534",
      "731998220d2349918833fa2429146fbf",
      "d9deba0d4c324bd986c5ba7da9997224",
      "76a9a3f1d202454a83ecc57cf167af16"
     ]
    },
    "executionInfo": {
     "elapsed": 21,
     "status": "ok",
     "timestamp": 1745638705482,
     "user": {
      "displayName": "YI TING WONG",
      "userId": "15776888317096542837"
     },
     "user_tz": -480
    },
    "id": "qOIKptvK5gEN",
    "outputId": "71042f97-8676-459e-b322-bb6b4d2828a2"
   },
   "outputs": [],
   "source": [
    "# Setup Hugging Face Token\n",
    "from huggingface_hub import notebook_login\n",
    "notebook_login()"
   ]
  },
  {
   "cell_type": "markdown",
   "metadata": {
    "id": "zPJsGReO3GeG"
   },
   "source": [
    "**Step 4: Securely Load Azure API Credentials**\n",
    "\n",
    "Using secrets.json avoids hardcoding sensitive information. This supports secure API usage and easier sharing of my notebook."
   ]
  },
  {
   "cell_type": "code",
   "execution_count": null,
   "metadata": {
    "executionInfo": {
     "elapsed": 2902,
     "status": "ok",
     "timestamp": 1745638724316,
     "user": {
      "displayName": "YI TING WONG",
      "userId": "15776888317096542837"
     },
     "user_tz": -480
    },
    "id": "HpsM2sGkK9qu"
   },
   "outputs": [],
   "source": [
    "# Securely Load Azure API Credentials\n",
    "# Azure endpoint and keys\n",
    "import json\n",
    "\n",
    "# Load secrets.json after upload\n",
    "with open(my_file_path+\"secrets.json\", \"r\") as f:\n",
    "    secrets = json.load(f)\n",
    "\n",
    "endpoint = secrets[\"AZURE_ENDPOINT\"]\n",
    "subscription_key = secrets[\"AZURE_KEY\"]"
   ]
  },
  {
   "cell_type": "markdown",
   "metadata": {
    "id": "euL8-aeG4I0u"
   },
   "source": [
    "**Step 5: Configure Azure OpenAI Client and Define GPT Prompt Wrapper**\n",
    "\n",
    "*   **api_version**: ensures compatibility with latest GPT-4o deployment and\n",
    "*   **deployment**: name matches my Azure OpenAI Studio setting.\n",
    "*   **model_prompt**: This utility function encapsulates the entire GPT-4o interaction, allowing clean and reusable prompting for various sections (data simulation, summarization, classification, etc.)\n",
    "\n",
    "\n"
   ]
  },
  {
   "cell_type": "code",
   "execution_count": null,
   "metadata": {
    "executionInfo": {
     "elapsed": 1699,
     "status": "ok",
     "timestamp": 1745638727784,
     "user": {
      "displayName": "YI TING WONG",
      "userId": "15776888317096542837"
     },
     "user_tz": -480
    },
    "id": "LFEgr22edvyK"
   },
   "outputs": [],
   "source": [
    "# Import Supporting Libraries\n",
    "import pandas as pd\n",
    "import numpy as np\n",
    "import matplotlib.pyplot as plt\n",
    "import seaborn as sns\n",
    "from datetime import datetime, timedelta\n",
    "from openai import AzureOpenAI\n",
    "import random\n",
    "import time\n",
    "\n",
    "# Configure Azure OpenAI Client\n",
    "api_version = \"2024-12-01-preview\"\n",
    "deployment = \"gpt-4o\"\n",
    "client = AzureOpenAI(\n",
    "    api_version=api_version,\n",
    "    azure_endpoint=endpoint,\n",
    "    api_key=subscription_key,\n",
    ")\n",
    "# Prompt execution wrapper for reuse\n",
    "def model_prompt(prompt, system_prompt=\"Act as a professional clinicians.\", temperature=0.7, max_tokens=4096):\n",
    "    response = client.chat.completions.create(\n",
    "        model=deployment,\n",
    "        messages=[\n",
    "            {\"role\": \"system\", \"content\": system_prompt},\n",
    "            {\"role\": \"user\", \"content\": prompt}\n",
    "        ],\n",
    "        max_tokens=max_tokens,\n",
    "        temperature=temperature,\n",
    "    )\n",
    "    return response.choices[0].message.content"
   ]
  },
  {
   "cell_type": "markdown",
   "metadata": {
    "id": "tlJZrmccPUQh"
   },
   "source": [
    "**Step 6: Single Sample Data Generation via GPT (Validation Prompt)**\n",
    "\n",
    "To verify the response structure of GPT-4o by generating a realistic single-patient daily monitoring record, ensuring the output conforms to expected JSON schema for later batch generation."
   ]
  },
  {
   "cell_type": "code",
   "execution_count": null,
   "metadata": {
    "colab": {
     "base_uri": "https://localhost:8080/"
    },
    "executionInfo": {
     "elapsed": 2087,
     "status": "ok",
     "timestamp": 1745638731651,
     "user": {
      "displayName": "YI TING WONG",
      "userId": "15776888317096542837"
     },
     "user_tz": -480
    },
    "id": "zSjfEl3ZOf-B",
    "outputId": "3bd66db7-33bf-4953-a0b0-2326fcddf175"
   },
   "outputs": [],
   "source": [
    "# Single Sample Data Generation via model\n",
    "data_prompt = \"\"\"\n",
    "Generate a single, realistic patient monitoring record for one randomly selected adult patient.\n",
    "\n",
    "Provide the following fields:\n",
    "- oxygen_saturation (in %)\n",
    "- heart_rate (in bpm)\n",
    "- temperature (in °C)\n",
    "- blood_pressure (systolic/diastolic, e.g. \"120/80\")\n",
    "- weight (in kg)\n",
    "- blood_glucose (in mg/dL)\n",
    "\n",
    "At the end, include a brief clinical_note (1–2 sentences, max 30 words) summarizing the patient status based on the values above. Use professional clinical tone with realistic variation (e.g. stable, recovering, mild concerns).\n",
    "\n",
    "Output as a valid JSON object with keys:\n",
    "oxygen_saturation, heart_rate, temperature, blood_pressure, weight, blood_glucose, clinical_note.\n",
    "\n",
    "Constraints:\n",
    "- Only output one JSON object.\n",
    "- No markdown or explanation.\n",
    "- Include realistic variation across different health conditions (e.g. fatigue, post-op, dietary changes, stress).\n",
    "- Ensure all fields are complete, no missing values.\n",
    "\"\"\"\n",
    "\n",
    "print(model_prompt(data_prompt))"
   ]
  },
  {
   "cell_type": "markdown",
   "metadata": {
    "id": "zw4s440yQ0pq"
   },
   "source": [
    "# **🧩 1. Dataset Simulation using GenAI**"
   ]
  },
  {
   "cell_type": "markdown",
   "metadata": {
    "id": "waaWdJZ1P-D_"
   },
   "source": [
    "This section outlines the complete process of generating synthetic inpatient monitoring data using a GenAI-powered approach.\n",
    "It simulates a realistic clinical setting where multiple patients are monitored daily for up to 30 days.\n",
    "Vital signs and clinical notes are generated based on assigned medical scenarios, ensuring medically coherent trends suitable for downstream exploratory analysis and machine learning modeling."
   ]
  },
  {
   "cell_type": "markdown",
   "metadata": {
    "id": "oCSmihMnd517"
   },
   "source": [
    "**Step 1: Prompt Engineering with Clinical Context**\n",
    "\n",
    "The prompt defines the required fields (vital signs + clinical note), instructs model on how to simulate recovery trends, controls for missing value logic, and constrains the output to valid JSON without extra formatting.\n",
    "\n",
    "**Step 2: Generate and Save Raw Outputs**\n",
    "\n",
    "To generate 30-day clinical data per patient using model and safely store each raw response as .txt for later parsing.\n",
    "\n",
    "**Step 3: Parse and Build the Final Dataset**\n",
    "\n",
    "To transform model-generated .txt files into a clean and structured DataFrame, validating JSON format and extracting fields.\n",
    "\n",
    "**Step 4: Final Export to CSV**\n",
    "\n",
    "To save the simulated and parsed data in a structured format suitable for downstream analytics and visualization."
   ]
  },
  {
   "cell_type": "markdown",
   "metadata": {
    "id": "iGBkIpf3e5Mm"
   },
   "source": [
    "**Step 1: Configuration and Library Setup**\n",
    "\n",
    "Import essential libraries (e.g., pandas, numpy, json, re, glob) and define basic configuration. This ensures the simulation pipeline runs in a clean and reproducible environment."
   ]
  },
  {
   "cell_type": "code",
   "execution_count": null,
   "metadata": {
    "executionInfo": {
     "elapsed": 3,
     "status": "ok",
     "timestamp": 1745626937384,
     "user": {
      "displayName": "YI TING WONG",
      "userId": "15776888317096542837"
     },
     "user_tz": -480
    },
    "id": "XL4nYVDRRC29"
   },
   "outputs": [],
   "source": [
    "import pandas as pd\n",
    "import numpy as np\n",
    "import json\n",
    "import time\n",
    "import re\n",
    "import os\n",
    "import glob\n",
    "\n",
    "# Configuration\n",
    "num_patients = 500\n",
    "start_date_str = \"2025-01-01\"\n",
    "raw_output_dir = os.path.join(my_file_path, \"data\")\n",
    "os.makedirs(raw_output_dir, exist_ok=True)"
   ]
  },
  {
   "cell_type": "markdown",
   "metadata": {
    "id": "uCj-fYYVfIU5"
   },
   "source": [
    "**Step 2: Prompt Engineering with Clinical Context**\n",
    "\n",
    "Design a dynamic prompt that tells model GPT-4o:\n",
    "1. To act as a clinical simulation engine\n",
    "\n",
    "2. To choose one of 4 scenarios (e.g., post-surgery, infection, chronic illness, or acute deterioration)\n",
    "\n",
    "3. To generate daily vitals and notes for each patient with 10–30 days of monitoring\n",
    "\n",
    "4. To follow professional tone and simulate realistic recovery or decline\n",
    "\n",
    "5. To occasionally omit 1 field (e.g., temperature, weight, blood_glucose) on 1–3 days\n",
    "\n",
    "This prompt ensures data is diverse, realistic, and medically grounded."
   ]
  },
  {
   "cell_type": "code",
   "execution_count": null,
   "metadata": {
    "executionInfo": {
     "elapsed": 11,
     "status": "ok",
     "timestamp": 1745626937397,
     "user": {
      "displayName": "YI TING WONG",
      "userId": "15776888317096542837"
     },
     "user_tz": -480
    },
    "id": "FIuJvbpbBfGC"
   },
   "outputs": [],
   "source": [
    "# === Prompt Generator 1 ===\n",
    "def generate_patient_prompt(patient_id, start_date):\n",
    "    return f\"\"\"\n",
    "You are a clinical simulation engine.\n",
    "\n",
    "Generate a valid JSON array of **daily hospital monitoring records** for patient {patient_id}, starting from {start_date} (YYYY-MM-DD).\n",
    "\n",
    "---\n",
    "\n",
    "SCENARIO & DURATION INSTRUCTIONS:\n",
    "- Randomly choose ONE of the following clinical scenarios for the patient:\n",
    "  1. **Post-surgery recovery** → 18–30 days\n",
    "  2. **Moderate infection (e.g. pneumonia)** → 15–25 days\n",
    "  3. **Chronic illness flare-up (e.g. diabetes complications, hypertension crisis)** → 20–30 days\n",
    "  4. **Acute deterioration (e.g. sepsis, cardiac failure)** → 10–15 days (with possible death or ICU transfer)\n",
    "\n",
    "- Based on the chosen scenario, simulate a realistic number of monitoring days accordingly.\n",
    "- Most patients should remain under monitoring for **more than 20 days**.\n",
    "- Only a small number of cases should stop early due to rapid recovery or deterioration.\n",
    "- If the patient recovers or deteriorates, you may stop early (but never before day 10).\n",
    "\n",
    "---\n",
    "\n",
    "EACH RECORD MUST INCLUDE:\n",
    "- date\n",
    "- oxygen_saturation (in %)\n",
    "- heart_rate (in bpm)\n",
    "- temperature (in °C)\n",
    "- blood_pressure (format: \"systolic/diastolic\")\n",
    "- weight (in kg)\n",
    "- blood_glucose (in mg/dL)\n",
    "- clinical_note: a brief clinical_note (2–3 sentences, max 35 words) summarizing the patient status based on the values above. Use professional clinical tone with realistic variation\n",
    "\n",
    "---\n",
    "\n",
    "MISSING DATA RULES:\n",
    "- On no more than 3 random days, omit 1 of: temperature, weight, blood_glucose.\n",
    "- Do not use nulls or placeholders. Simply omit the key entirely.\n",
    "\n",
    "---\n",
    "\n",
    "OUTPUT RULES:\n",
    "- Return only a **valid JSON array** of N records (N = 10 to 30 depending on scenario).\n",
    "- No markdown, No explanation, No code block.\n",
    "- Just pure JSON.\n",
    "\"\"\""
   ]
  },
  {
   "cell_type": "code",
   "execution_count": null,
   "metadata": {
    "executionInfo": {
     "elapsed": 3,
     "status": "ok",
     "timestamp": 1745626580553,
     "user": {
      "displayName": "YI TING WONG",
      "userId": "15776888317096542837"
     },
     "user_tz": -480
    },
    "id": "1-92IKEy-1QZ"
   },
   "outputs": [],
   "source": [
    "# === Prompt Generator 2 ===\n",
    "# Monitor each patient's 30-day record of prompts\n",
    "def generate_patient_prompt_30days(patient_id, start_date):\n",
    "    return f\"\"\"\n",
    "Generate a JSON array of 30 daily monitoring records for patient {patient_id}, starting from {start_date} (YYYY-MM-DD).\n",
    "\n",
    "Each record must include:\n",
    "- date\n",
    "- oxygen_saturation (%)\n",
    "- heart_rate (bpm)\n",
    "- temperature (°C)\n",
    "- blood_pressure (\"systolic/diastolic\")\n",
    "- weight (kg)\n",
    "- blood_glucose (mg/dL)\n",
    "- clinical_note (2–3 sentences in professional tone, max 35 words)\n",
    "\n",
    "Instructions:\n",
    "- Choose a realistic medical scenario (e.g. infection, post-surgery, pregnancy, anxiety, fatigue)\n",
    "- Simulate realistic changes over 30 days: early-stage symptoms → improvement → stabilization or recovery\n",
    "- Use only professional clinical language, describing daily changes, recovery, and trends\n",
    "- Avoid device/system mentions\n",
    "\n",
    "Missing Data Instructions:\n",
    "- Omit at most 1 field per day, no more than 3 total days\n",
    "- Only temperature, weight, and blood_glucose may be missing\n",
    "- Do not use null/empty values—omit keys entirely\n",
    "\n",
    "Output only a valid JSON array of 30 objects. No markdown, no code block, no explanation.\n",
    "\"\"\""
   ]
  },
  {
   "cell_type": "markdown",
   "metadata": {
    "id": "kjHNNjxcfoKJ"
   },
   "source": [
    "**Step 3: Generate and Save Raw Output**\n",
    "\n",
    "Loop over all patient IDs and:\n",
    "\n",
    "1. Send the prompt to GPT-4o\n",
    "2. Receive the response (a JSON array)\n",
    "3. Save the raw output to a .txt file for traceability and debugging\n",
    "\n",
    "Each patient gets one raw output file (data_output_Pxxxx.txt) stored safely."
   ]
  },
  {
   "cell_type": "code",
   "execution_count": null,
   "metadata": {
    "colab": {
     "base_uri": "https://localhost:8080/"
    },
    "executionInfo": {
     "elapsed": 5751733,
     "status": "ok",
     "timestamp": 1745632694304,
     "user": {
      "displayName": "YI TING WONG",
      "userId": "15776888317096542837"
     },
     "user_tz": -480
    },
    "id": "cL8dusxK7s_F",
    "outputId": "65a01f68-5cb8-498f-b61c-35189966df84"
   },
   "outputs": [],
   "source": [
    "# === Phase 1: Generation and Save Raw Output ===\n",
    "for pid in range(1, num_patients + 1):\n",
    "    patient_id = f\"P{pid:04d}\"\n",
    "    prompt = generate_patient_prompt(patient_id, start_date_str)\n",
    "    raw_output = model_prompt(prompt)\n",
    "\n",
    "    with open(f\"{raw_output_dir}/data_output_{patient_id}.txt\", \"w\") as f:\n",
    "        f.write(raw_output)\n",
    "\n",
    "    print(f\"Saved output for patient id: {patient_id}.\")\n",
    "    time.sleep(0.25)"
   ]
  },
  {
   "cell_type": "markdown",
   "metadata": {
    "id": "zmt8zQzl8pqH"
   },
   "source": [
    "**Special Handling: Regenerating Patient P0264 Monitoring Records**\n",
    "\n",
    "During the JSON-to-DataFrame parsing phase, it was discovered that some patients' monitoring data had formatting issues that prevented successful conversion. This ensures the dataset remains complete and all patients are properly processed for subsequent analysis."
   ]
  },
  {
   "cell_type": "code",
   "execution_count": null,
   "metadata": {
    "colab": {
     "base_uri": "https://localhost:8080/"
    },
    "executionInfo": {
     "elapsed": 8895,
     "status": "ok",
     "timestamp": 1745635061432,
     "user": {
      "displayName": "YI TING WONG",
      "userId": "15776888317096542837"
     },
     "user_tz": -480
    },
    "id": "fqrw3iGC7ufS",
    "outputId": "abf6ea39-aabf-4241-9e31-93c0b73ec872"
   },
   "outputs": [],
   "source": [
    "# Define Patient ID\n",
    "pid = 264\n",
    "patient_id = f\"P{pid:04d}\"\n",
    "\n",
    "# Generate Prompt\n",
    "prompt = generate_patient_prompt(patient_id, start_date_str)\n",
    "\n",
    "# Call GenAI model\n",
    "raw_output = model_prompt(prompt)\n",
    "\n",
    "# Save output\n",
    "with open(f\"{raw_output_dir}/data_output_{patient_id}.txt\", \"w\") as f:\n",
    "    f.write(raw_output)\n",
    "\n",
    "print(f\"Saved new output for patient id: {patient_id}.\")\n"
   ]
  },
  {
   "cell_type": "markdown",
   "metadata": {
    "id": "oDzdfE6jf_wF"
   },
   "source": [
    "**Step 4: Parse and Build the Final Dataset**\n",
    "\n",
    "Loop over all patient IDs and:\n",
    "\n",
    "1. Validate and parse each .txt file using json.loads\n",
    "2. Extract daily records into a pandas.DataFrame\n",
    "\n",
    "This ensures that malformed or empty outputs are skipped, and clean, structured data is retained."
   ]
  },
  {
   "cell_type": "code",
   "execution_count": null,
   "metadata": {
    "executionInfo": {
     "elapsed": 2773,
     "status": "ok",
     "timestamp": 1745635070329,
     "user": {
      "displayName": "YI TING WONG",
      "userId": "15776888317096542837"
     },
     "user_tz": -480
    },
    "id": "j8le_Ome7u9X"
   },
   "outputs": [],
   "source": [
    "# === Utility Functions ===\n",
    "def parse_json_from_prompt(raw_output):\n",
    "    clean_text = re.sub(r\"```json|```\", \"\", raw_output).strip()\n",
    "    return json.loads(clean_text)\n",
    "\n",
    "def is_valid_json(text):\n",
    "    try:\n",
    "        json.loads(text)\n",
    "        return True\n",
    "    except json.JSONDecodeError as e:\n",
    "        print(\"JSON error:\", e)\n",
    "        return False\n",
    "# === Phase 2: Parse Raw Output into DataFrame ===\n",
    "records = []\n",
    "\n",
    "for file_path in sorted(glob.glob(f\"{raw_output_dir}/data_output_P*.txt\")):\n",
    "    patient_id = os.path.basename(file_path).split(\"_\")[-1].split(\".\")[0]\n",
    "\n",
    "    try:\n",
    "        with open(file_path, \"r\") as f:\n",
    "            raw_output = f.read()\n",
    "\n",
    "        # Parse JSON\n",
    "        daily_data = json.loads(raw_output)\n",
    "        monitoring_days = len(daily_data)\n",
    "\n",
    "        for i, day in enumerate(daily_data):\n",
    "            records.append({\n",
    "                \"patient_id\": patient_id,\n",
    "                \"timestamp\": day.get(\"date\", np.nan),\n",
    "                \"oxygen_saturation\": day.get(\"oxygen_saturation\", np.nan),\n",
    "                \"heart_rate\": day.get(\"heart_rate\", np.nan),\n",
    "                \"temperature\": day.get(\"temperature\", np.nan),\n",
    "                \"blood_pressure\": day.get(\"blood_pressure\", np.nan),\n",
    "                \"weight\": day.get(\"weight\", np.nan),\n",
    "                \"blood_glucose\": day.get(\"blood_glucose\", np.nan),\n",
    "                \"clinical_note\": day.get(\"clinical_note\", \"\"),\n",
    "            })\n",
    "\n",
    "    except json.JSONDecodeError as err:\n",
    "        print(f\"JSON Decode Error for {patient_id}: {err}\")\n",
    "    except Exception as err:\n",
    "        print(f\"Unexpected error for {patient_id}: {err}\")"
   ]
  },
  {
   "cell_type": "markdown",
   "metadata": {
    "id": "8lMuhPFegc92"
   },
   "source": [
    "**Step 5: Export Final CSV**\n",
    "\n",
    "Save the final compiled dataframe into generate_patient_dataset.csv for use in later sections:\n",
    "\n",
    "1. Exploratory Data Analysis\n",
    "2. SLM-based preprocessing\n",
    "\n",
    "The exported dataset contains patient_id, timestamp, all vital signs, and clinical notes, ready for AI-driven analysis."
   ]
  },
  {
   "cell_type": "code",
   "execution_count": null,
   "metadata": {
    "colab": {
     "base_uri": "https://localhost:8080/",
     "height": 293
    },
    "executionInfo": {
     "elapsed": 229,
     "status": "ok",
     "timestamp": 1745635074489,
     "user": {
      "displayName": "YI TING WONG",
      "userId": "15776888317096542837"
     },
     "user_tz": -480
    },
    "id": "FJ3qSbYX7w6A",
    "outputId": "0a489312-c71c-4ab0-b381-3b3f6c21c12c"
   },
   "outputs": [],
   "source": [
    "# Save parsed dataset\n",
    "df = pd.DataFrame(records)\n",
    "df.to_csv(my_file_path+\"generate_patient_dataset.csv\", index=False)\n",
    "df.head()"
   ]
  },
  {
   "cell_type": "markdown",
   "metadata": {
    "id": "pazycTGUEAx4"
   },
   "source": [
    "# **📊 2. Exploratory Data Analysis (EDA) Enhanced by LLMs**"
   ]
  },
  {
   "cell_type": "markdown",
   "metadata": {
    "id": "Y6DAybz8McWy"
   },
   "source": [
    "This section performs structured analysis on the GenAI-simulated patient dataset through both statistical exploration and large language model (LLM) interpretation. The aim is to uncover clinical trends, detect missing patterns, and summarize patient recovery trajectories across variable monitoring durations."
   ]
  },
  {
   "cell_type": "markdown",
   "metadata": {
    "id": "34dNy26oSBr0"
   },
   "source": [
    "**Step 1: Load and Preview the Dataset**\n",
    "\n",
    "Load the final structured dataset (generate_patient_dataset.csv) , convert the timestamp to datetime format, and perform a quick inspection of the dataset shape and features."
   ]
  },
  {
   "cell_type": "code",
   "execution_count": null,
   "metadata": {
    "colab": {
     "base_uri": "https://localhost:8080/",
     "height": 570
    },
    "executionInfo": {
     "elapsed": 1063,
     "status": "ok",
     "timestamp": 1745638739661,
     "user": {
      "displayName": "YI TING WONG",
      "userId": "15776888317096542837"
     },
     "user_tz": -480
    },
    "id": "rgFeofStFtjS",
    "outputId": "e6f1ae26-6dba-42e2-83ed-5611efefae84"
   },
   "outputs": [],
   "source": [
    "import pandas as pd\n",
    "\n",
    "# Load the dataset\n",
    "df = pd.read_csv(my_file_path + \"generate_patient_dataset.csv\")\n",
    "df[\"timestamp\"] = pd.to_datetime(df[\"timestamp\"])\n",
    "\n",
    "# Preview structure\n",
    "df.info()\n",
    "df.head()"
   ]
  },
  {
   "cell_type": "markdown",
   "metadata": {
    "id": "Ghxn43N2Vjtf"
   },
   "source": [
    "**Step 2: Automated Full EDA with ydata-profiling**\n",
    "\n",
    "Using ydata-profiling to a comprehensive and professional-grade EDA report covering data types, statistics, missing values, correlations, interactions, distributions, and more."
   ]
  },
  {
   "cell_type": "code",
   "execution_count": null,
   "metadata": {
    "colab": {
     "base_uri": "https://localhost:8080/",
     "height": 1000,
     "output_embedded_package_id": "1VtAame7JawyLiurVXswAJVKwNRUFqbw1",
     "referenced_widgets": [
      "77406c04bfcf4dbfaae7ce93fbe252ce",
      "3c51a863fe07484ab98545d4054996dc",
      "cfeea46cf1474d9392a1950ce2191b72",
      "1a85723b52fc4c67ae224a3558b5d927",
      "8727e137e817421ca441277c925613ce",
      "5df39787c4ee42ed942caf67cc87c911",
      "f8cbaa03072741cebae01a725bfa081b",
      "a3c62b0dfec34a338fc0f244a3cf1c84",
      "01031e348796411096315bc1b1b34d2b",
      "b19a6d8b8fd14ff79a7468dc22537470",
      "e309f9b3e9c540e686b46e02a78bb99a",
      "418285dac3934e75b351274d92a829f3",
      "ed8f327e11ef41c79beca52b963deeb4",
      "2f1b8cf00f0e42c9a1f099a61996b0c5",
      "ce121d1c5d434a79a8eac0b35d0e80b0",
      "ec20150c291348cba3bdf5ac114e264e",
      "b70f9f69587c434985fa35a4a9dd5755",
      "f1a2e4e87af34b779bb5892ff6ab5d85",
      "1e97671d806c49ed824cdb9972cb7e83",
      "068e430b740542eea50593667fdc8552",
      "3054db918b944c2fa94e1e45d230838f",
      "4dce9f90c6fd4c1f8567f820d3980ee6",
      "8e15b737d0af4262a0a91fc3f3bc8838",
      "06c69263c9a949e9a8c2083a0e66047d",
      "b8fde89697fa40c691d0fdefc2c3f7d4",
      "9a5d61351a784a268422d13e975841a2",
      "2575be31d2cd47f3add26ac65a4292b5",
      "8b5a960fb53c419aae92f87f75ffe1c0",
      "d4485a0922004240a686df3b9ea58cea",
      "80fec4c9933a42c2b8cdb699d64e87fb",
      "e1668653c29048b7a7c2ff37eae41010",
      "aa908e2aac024695ba6d3104afa4e832",
      "acad45d8de5e4867955b8d3e482dcf84",
      "bb861cf522fa40a2b9c603955d9dfa3d",
      "7d7d02b20b854efeaf4b40ba9f1acfea",
      "2c09f1550503499bbf548fa37d689888",
      "107556f555f74949a783daf01918c1a3",
      "1b88d324222d43f493112dadfa407387",
      "dc2af02c2af8466e8f7de22a0a57a2b6",
      "b29994d6e7c64639b9151cddc5b8e926",
      "2b51c88a635c46019721a0aacd081de2",
      "a453c7e34e5c411d8eed48f988fd35b0",
      "5ff77a7861f24781ac884a2c15d200fc",
      "c9ec37223a9e485a9a66dbe19461b641"
     ]
    },
    "executionInfo": {
     "elapsed": 12691,
     "status": "ok",
     "timestamp": 1745638754633,
     "user": {
      "displayName": "YI TING WONG",
      "userId": "15776888317096542837"
     },
     "user_tz": -480
    },
    "id": "qe_O7OKca9-v",
    "outputId": "e65d7ecf-525c-45ca-ce56-f785253cb86c"
   },
   "outputs": [],
   "source": [
    "from ydata_profiling import ProfileReport\n",
    "from IPython.core.display import display, HTML\n",
    "\n",
    "# Generate profiling report\n",
    "profile = ProfileReport(df, title=\"GenAI Patient Dataset Exploratory Data Analysis (EDA)\", explorative=True)\n",
    "profile.to_file(my_file_path+\"eda_patient_report.html\")\n",
    "\n",
    "# Display in notebook\n",
    "with open(my_file_path+\"eda_patient_report.html\", \"r\") as f:\n",
    "    display(HTML(f.read()))"
   ]
  },
  {
   "cell_type": "markdown",
   "metadata": {
    "id": "BEro1PhlXM40"
   },
   "source": [
    "**Step 3: Time Series Trend Visualization with Patient Range Control**\n",
    "\n",
    "This step visualizes temporal trends in core health indicators — temperature, heart rate, and blood glucose — for a custom-selected range of patients.\n",
    "Given the large dataset (500 patients), plotting all records together would be visually overwhelming. Therefore, I segment the visualizations by patient index range for clarity.\n",
    "\n",
    "Clinical Reference Bands:\n",
    "1. Temperature(°C): 36.5 ~ 37.5\n",
    "2. Heart Rate (bpm): 60 – 100\n",
    "3. Blood Glucose: 70 – 140 mg/dL"
   ]
  },
  {
   "cell_type": "code",
   "execution_count": null,
   "metadata": {
    "colab": {
     "base_uri": "https://localhost:8080/",
     "height": 981
    },
    "executionInfo": {
     "elapsed": 1199,
     "status": "ok",
     "timestamp": 1745638757603,
     "user": {
      "displayName": "YI TING WONG",
      "userId": "15776888317096542837"
     },
     "user_tz": -480
    },
    "id": "fAr_ThS5Tjky",
    "outputId": "7d3b8d37-2dc6-46aa-dd43-f383b19f2073"
   },
   "outputs": [],
   "source": [
    "import seaborn as sns\n",
    "import matplotlib.pyplot as plt\n",
    "\n",
    "# === Define patient range (P0100 to P0120 means index 99 to 120) ===\n",
    "start_index = 1\n",
    "end_index = 10\n",
    "\n",
    "# Get the exact patient IDs (e.g., 'P0100' to 'P0120')\n",
    "patient_ids = df['patient_id'].unique()\n",
    "selected_ids = patient_ids[start_index - 1 : end_index]\n",
    "subset_df = df[df[\"patient_id\"].isin(selected_ids)]\n",
    "\n",
    "# === Plot time series with clinical reference zones ===\n",
    "fig, axes = plt.subplots(3, 1, figsize=(14, 12), sharex=True)\n",
    "\n",
    "# Temperature\n",
    "sns.lineplot(ax=axes[0], data=subset_df, x=\"timestamp\", y=\"temperature\", hue=\"patient_id\", marker=\"o\")\n",
    "axes[0].axhspan(36.5, 37.5, color='lightgreen', alpha=0.3, label='Normal Temp')\n",
    "axes[0].set_title(\"Temperature Over Time\")\n",
    "axes[0].set_ylabel(\"°C\")\n",
    "axes[0].legend().remove()\n",
    "\n",
    "# Heart Rate\n",
    "sns.lineplot(ax=axes[1], data=subset_df, x=\"timestamp\", y=\"heart_rate\", hue=\"patient_id\", marker=\"o\")\n",
    "axes[1].axhspan(60, 100, color='lightblue', alpha=0.3, label='Normal HR')\n",
    "axes[1].set_title(\"Heart Rate Over Time\")\n",
    "axes[1].set_ylabel(\"BPM\")\n",
    "axes[1].legend().remove()\n",
    "\n",
    "# Blood Glucose\n",
    "sns.lineplot(ax=axes[2], data=subset_df, x=\"timestamp\", y=\"blood_glucose\", hue=\"patient_id\", marker=\"o\")\n",
    "axes[2].axhspan(70, 140, color='lightcoral', alpha=0.3, label='Normal Glucose')\n",
    "axes[2].set_title(\"Blood Glucose Over Time\")\n",
    "axes[2].set_ylabel(\"mg/dL\")\n",
    "axes[2].set_xlabel(\"Date\")\n",
    "axes[2].legend(bbox_to_anchor=(1.01, 1), loc=\"upper left\", fontsize=\"small\", title=\"Patient ID\")\n",
    "\n",
    "plt.suptitle(f\"Vital Sign Trends for Patients P{start_index:04d} to P{end_index:04d}\", fontsize=16)\n",
    "plt.tight_layout()\n",
    "plt.show()"
   ]
  },
  {
   "cell_type": "markdown",
   "metadata": {
    "id": "VtEWHDZPnCuR"
   },
   "source": [
    "**Step 4: Patient Hospitalization Duration Distribution**\n",
    "\n",
    "This step calculates the number of days each patient remained under daily monitoring by counting the number of records per patient ID. The result is visualized as a histogram to show the distribution of hospitalization durations across all patients. This helps identify how many patients were monitored for short, typical, or full durations (up to 30 days), reflecting real-world discharge or deterioration scenarios."
   ]
  },
  {
   "cell_type": "code",
   "execution_count": null,
   "metadata": {
    "colab": {
     "base_uri": "https://localhost:8080/",
     "height": 607
    },
    "executionInfo": {
     "elapsed": 194,
     "status": "ok",
     "timestamp": 1745638760142,
     "user": {
      "displayName": "YI TING WONG",
      "userId": "15776888317096542837"
     },
     "user_tz": -480
    },
    "id": "eZQHyoi2ncCQ",
    "outputId": "7b070f81-c095-429a-ab90-db9957bf66e2"
   },
   "outputs": [],
   "source": [
    "import seaborn as sns\n",
    "import matplotlib.pyplot as plt\n",
    "\n",
    "# Count hospitalization duration per patient\n",
    "duration_df = df.groupby(\"patient_id\").size().reset_index(name=\"days_monitored\")\n",
    "\n",
    "# Plot histogram or barplot\n",
    "plt.figure(figsize=(10, 6))\n",
    "sns.histplot(duration_df[\"days_monitored\"], bins=15, kde=False, color=\"skyblue\")\n",
    "plt.title(\"Distribution of Hospitalization Duration per Patient\")\n",
    "plt.xlabel(\"Number of Days Monitored\")\n",
    "plt.ylabel(\"Number of Patients\")\n",
    "plt.grid(axis=\"y\", linestyle=\"--\", alpha=0.6)\n",
    "plt.tight_layout()\n",
    "plt.show()"
   ]
  },
  {
   "cell_type": "code",
   "execution_count": null,
   "metadata": {
    "colab": {
     "base_uri": "https://localhost:8080/",
     "height": 363
    },
    "executionInfo": {
     "elapsed": 29,
     "status": "ok",
     "timestamp": 1745635343011,
     "user": {
      "displayName": "YI TING WONG",
      "userId": "15776888317096542837"
     },
     "user_tz": -480
    },
    "id": "HogI8rhVnieB",
    "outputId": "c56e0d96-6cfa-4b92-f560-6d98125f70ad"
   },
   "outputs": [],
   "source": [
    "# Display the top 10 patients with the longest monitoring durations\n",
    "duration_df.sort_values(\"days_monitored\", ascending=False).head(10)"
   ]
  },
  {
   "cell_type": "markdown",
   "metadata": {
    "id": "-i1CoZ2uXggM"
   },
   "source": [
    "**Step 5: Clinical Note Summarization using LLMs (e.g., GPT-4o)**\n",
    "\n",
    "This step leverages Large Language Models (LLMs) to generate concise, high-level summaries of each patient's clinical progression across the monitoring period:\n",
    "\n",
    "1. Aggregate Clinical Notes\n",
    "Daily **clinical_note** entries are grouped by patient and concatenated into a single text block, providing a comprehensive view of the patient's condition evolution.\n",
    "\n",
    "2. Design Structured Summarization Prompt\n",
    "A structured prompt is crafted to guide the LLM in summarizing key clinical trends, such as recovery, deterioration, or stabilization, while maintaining a professional medical tone.\n",
    "\n",
    "3. LLM Invocation for Each Patient\n",
    "The structured prompt is sent to GPT-4o (or an equivalent LLM) on a per-patient basis, ensuring that each summary captures trend patterns, notable events, and the final clinical outcome.\n",
    "\n",
    "4. Export Summarized Results\n",
    "The generated summaries are consolidated into a CSV file, enabling further analysis, visualization, or integration into downstream modeling tasks."
   ]
  },
  {
   "cell_type": "code",
   "execution_count": null,
   "metadata": {
    "executionInfo": {
     "elapsed": 23,
     "status": "ok",
     "timestamp": 1745638764467,
     "user": {
      "displayName": "YI TING WONG",
      "userId": "15776888317096542837"
     },
     "user_tz": -480
    },
    "id": "fgGshkG5WWF1"
   },
   "outputs": [],
   "source": [
    "# Group and prepare all_notes\n",
    "patient_notes = df.groupby(\"patient_id\")[\"clinical_note\"].apply(lambda x: \"\\n\".join(x)).reset_index()\n",
    "patient_notes.columns = [\"patient_id\", \"all_notes\"]\n",
    "\n",
    "# Define system prompt\n",
    "system_prompt = \"You are a senior clinical analyst. Summarize patient trend professionally.\"\n",
    "\n",
    "# Generate prompts\n",
    "def generate_summary_prompt(pid, notes):\n",
    "    return f\"\"\"\n",
    "Patient ID: {pid}\n",
    "{notes}\n",
    "Summarize in 2–3 sentences:\n",
    "- Overall trend\n",
    "- Turning points\n",
    "- Final outcome\n",
    "\"\"\"\n",
    "summary_prompts = patient_notes.apply(lambda row: generate_summary_prompt(row[\"patient_id\"], row[\"all_notes\"]), axis=1)"
   ]
  },
  {
   "cell_type": "code",
   "execution_count": null,
   "metadata": {
    "colab": {
     "base_uri": "https://localhost:8080/"
    },
    "executionInfo": {
     "elapsed": 2735067,
     "status": "ok",
     "timestamp": 1745638102564,
     "user": {
      "displayName": "YI TING WONG",
      "userId": "15776888317096542837"
     },
     "user_tz": -480
    },
    "id": "f_O01XX9a9IA",
    "outputId": "ee5c15d4-c6b0-49b3-82dd-5239c07ebc31"
   },
   "outputs": [],
   "source": [
    "from tqdm import tqdm\n",
    "\n",
    "summaries = []\n",
    "\n",
    "for idx, prompt in tqdm(summary_prompts.items(), total=len(summary_prompts), desc=\"Generating Summaries\"):\n",
    "    pid = patient_notes.loc[idx, \"patient_id\"]\n",
    "    output = model_prompt(prompt, system_prompt=system_prompt)\n",
    "    summaries.append({\n",
    "        \"patient_id\": pid,\n",
    "        \"summary\": output\n",
    "    })"
   ]
  },
  {
   "cell_type": "code",
   "execution_count": null,
   "metadata": {
    "colab": {
     "base_uri": "https://localhost:8080/",
     "height": 206
    },
    "executionInfo": {
     "elapsed": 345,
     "status": "ok",
     "timestamp": 1745638102916,
     "user": {
      "displayName": "YI TING WONG",
      "userId": "15776888317096542837"
     },
     "user_tz": -480
    },
    "id": "pnYGUjJCl1Vt",
    "outputId": "cc31fc64-8e0e-49ce-872a-1cc9d04a6068"
   },
   "outputs": [],
   "source": [
    "# Save the summary dataset\n",
    "summary_df = pd.DataFrame(summaries)\n",
    "summary_df.to_csv(my_file_path+\"patient_summary.csv\", index=False)\n",
    "summary_df.head()"
   ]
  },
  {
   "cell_type": "markdown",
   "metadata": {
    "id": "HfS-wegWETmT"
   },
   "source": [
    "# **🧼 3. Advanced Data Preprocessing with SLMs / LLMs**"
   ]
  },
  {
   "cell_type": "markdown",
   "metadata": {
    "id": "p7si5MGHnmgT"
   },
   "source": [
    "This section demonstrates the use of advanced preprocessing techniques to prepare a patient monitoring dataset for analysis or modeling. The process includes intelligent missing value handling, feature normalization, categorical feature encoding, application of Small Language Models (SLMs) for text embedding or enhancement"
   ]
  },
  {
   "cell_type": "markdown",
   "metadata": {
    "id": "1yO3_LbUw6TF"
   },
   "source": [
    "**Step 1: Categorical Feature Encoding**\n",
    "\n",
    "The composite blood_pressure string (e.g., \"120/80\") is split into two separate numerical columns: systolic_bp and diastolic_bp. This improves model interpretability and allows for numerical analysis or binning of these values."
   ]
  },
  {
   "cell_type": "code",
   "execution_count": null,
   "metadata": {
    "executionInfo": {
     "elapsed": 22,
     "status": "ok",
     "timestamp": 1745638770953,
     "user": {
      "displayName": "YI TING WONG",
      "userId": "15776888317096542837"
     },
     "user_tz": -480
    },
    "id": "cvEEhwZsxFz7"
   },
   "outputs": [],
   "source": [
    "df_cleaned = df.copy()\n",
    "df_cleaned[[\"systolic_bp\", \"diastolic_bp\"]] = df[\"blood_pressure\"].str.split(\"/\", expand=True).astype(float)\n",
    "df_cleaned = df_cleaned.drop(columns=[\"blood_pressure\"])"
   ]
  },
  {
   "cell_type": "code",
   "execution_count": null,
   "metadata": {
    "colab": {
     "base_uri": "https://localhost:8080/",
     "height": 746
    },
    "executionInfo": {
     "elapsed": 37,
     "status": "ok",
     "timestamp": 1745638772686,
     "user": {
      "displayName": "YI TING WONG",
      "userId": "15776888317096542837"
     },
     "user_tz": -480
    },
    "id": "Q1j1CEGi8BGW",
    "outputId": "89a60af5-8daf-48a5-d3e3-e6d569f03e63"
   },
   "outputs": [],
   "source": [
    "# Preview\n",
    "df_cleaned.info()\n",
    "df_cleaned.head()"
   ]
  },
  {
   "cell_type": "markdown",
   "metadata": {
    "id": "49_5PRRCoH2d"
   },
   "source": [
    "**Step 2: Intelligent Per-Patient Missing Value Handling**\n",
    "\n",
    "To preserve individual variation in clinical patterns, missing values in key physiological metrics — including temperature, weight, blood glucose, and blood pressure (systolic and diastolic) — are imputed separately for each patient using their own median values. This patient-centric approach ensures that imputation aligns with personal baselines and avoids distortion from population-level statistics, maintaining the integrity of temporal health trends for downstream analysis."
   ]
  },
  {
   "cell_type": "code",
   "execution_count": null,
   "metadata": {
    "executionInfo": {
     "elapsed": 924,
     "status": "ok",
     "timestamp": 1745638779653,
     "user": {
      "displayName": "YI TING WONG",
      "userId": "15776888317096542837"
     },
     "user_tz": -480
    },
    "id": "6I7CY8oEFt3X"
   },
   "outputs": [],
   "source": [
    "fill_cols = [\"temperature\", \"weight\", \"blood_glucose\", \"systolic_bp\", \"diastolic_bp\"]\n",
    "for col in fill_cols:\n",
    "    df_cleaned[col] = df_cleaned.groupby(\"patient_id\")[col].transform(lambda x: x.fillna(x.median()))"
   ]
  },
  {
   "cell_type": "code",
   "execution_count": null,
   "metadata": {
    "colab": {
     "base_uri": "https://localhost:8080/",
     "height": 746
    },
    "executionInfo": {
     "elapsed": 45,
     "status": "ok",
     "timestamp": 1745638780522,
     "user": {
      "displayName": "YI TING WONG",
      "userId": "15776888317096542837"
     },
     "user_tz": -480
    },
    "id": "a_2oaVVH9e1f",
    "outputId": "757eacf6-635b-48a9-df2b-5c118e1d17ca"
   },
   "outputs": [],
   "source": [
    "# Preview\n",
    "df_cleaned.info()\n",
    "df_cleaned.head()"
   ]
  },
  {
   "cell_type": "markdown",
   "metadata": {
    "id": "xaqV9HgFwo49"
   },
   "source": [
    "**Step 3: Numerical Feature Normalization**\n",
    "\n",
    "To enable fair comparisons between patients and prevent scale dominance in modeling, key numeric features (e.g., temperature, heart rate, blood glucose) are standardized using z-score normalization. This transformation centers the values around zero and scales them by standard deviation."
   ]
  },
  {
   "cell_type": "code",
   "execution_count": null,
   "metadata": {
    "executionInfo": {
     "elapsed": 10,
     "status": "ok",
     "timestamp": 1745638790280,
     "user": {
      "displayName": "YI TING WONG",
      "userId": "15776888317096542837"
     },
     "user_tz": -480
    },
    "id": "dN6XbD_twod3"
   },
   "outputs": [],
   "source": [
    "from sklearn.preprocessing import StandardScaler\n",
    "\n",
    "norm_cols = [\"temperature\", \"heart_rate\", \"blood_glucose\"]\n",
    "scaler = StandardScaler()\n",
    "df_cleaned[[f\"{col}_zscore\" for col in norm_cols]] = scaler.fit_transform(df_cleaned[norm_cols])"
   ]
  },
  {
   "cell_type": "code",
   "execution_count": null,
   "metadata": {
    "colab": {
     "base_uri": "https://localhost:8080/",
     "height": 799
    },
    "executionInfo": {
     "elapsed": 51,
     "status": "ok",
     "timestamp": 1745638791534,
     "user": {
      "displayName": "YI TING WONG",
      "userId": "15776888317096542837"
     },
     "user_tz": -480
    },
    "id": "wcLsiUgp9aeB",
    "outputId": "bd0de55f-20ac-4731-9977-d10737d025ff"
   },
   "outputs": [],
   "source": [
    "# Preview\n",
    "df_cleaned.info()\n",
    "df_cleaned.head()"
   ]
  },
  {
   "cell_type": "markdown",
   "metadata": {
    "id": "In1mD3lcxYPP"
   },
   "source": [
    "**Step 4: LLM-Based Clinical Note Classification using Hugging Face**\n",
    "\n",
    "To extract semantic meaning from free-text clinical notes, a zero-shot classification model (e.g., facebook/bart-large-mnli) is used. It assigns each note to one of four predefined health statuses:\n",
    "*   Stable – Patient remained within normal clinical limits.\n",
    "*   Recovering – Patient shows gradual improvement.\n",
    "*   Deteriorating – Worsening symptoms or instability detected.\n",
    "*   Critical – Severe decline or urgent care required.\n",
    "\n",
    "This enables modeling and visualization of patient recovery trajectories without manual annotation."
   ]
  },
  {
   "cell_type": "code",
   "execution_count": null,
   "metadata": {
    "colab": {
     "base_uri": "https://localhost:8080/"
    },
    "executionInfo": {
     "elapsed": 10,
     "status": "ok",
     "timestamp": 1745638796240,
     "user": {
      "displayName": "YI TING WONG",
      "userId": "15776888317096542837"
     },
     "user_tz": -480
    },
    "id": "rjtINCOMawM0",
    "outputId": "42318d1d-89c8-4bb9-abcc-8236b61f0a3d"
   },
   "outputs": [],
   "source": [
    "import torch\n",
    "# Device Detection (GPU if available)\n",
    "device = 0 if torch.cuda.is_available() else -1\n",
    "print(\"Using device:\", \"GPU\" if device == 0 else \"CPU\")"
   ]
  },
  {
   "cell_type": "code",
   "execution_count": null,
   "metadata": {
    "colab": {
     "base_uri": "https://localhost:8080/"
    },
    "executionInfo": {
     "elapsed": 1315,
     "status": "ok",
     "timestamp": 1745638798960,
     "user": {
      "displayName": "YI TING WONG",
      "userId": "15776888317096542837"
     },
     "user_tz": -480
    },
    "id": "xVrD_GNvoxSi",
    "outputId": "b9bf0fc8-8b15-4b60-856c-0e6b414b00d0"
   },
   "outputs": [],
   "source": [
    "from transformers import pipeline\n",
    "\n",
    "# Load zero-shot classifier\n",
    "classifier = pipeline(\n",
    "    \"zero-shot-classification\",\n",
    "    model=\"facebook/bart-large-mnli\",\n",
    "    device=device\n",
    ")\n",
    "# Define medical status labels\n",
    "labels = [\"Stable\", \"Recovering\", \"Deteriorating\", \"Critical\"]\n",
    "\n",
    "# Initialize empty column for note_status\n",
    "df_cleaned[\"note_status\"] = None"
   ]
  },
  {
   "cell_type": "code",
   "execution_count": null,
   "metadata": {
    "colab": {
     "base_uri": "https://localhost:8080/"
    },
    "executionInfo": {
     "elapsed": 535153,
     "status": "ok",
     "timestamp": 1745639342265,
     "user": {
      "displayName": "YI TING WONG",
      "userId": "15776888317096542837"
     },
     "user_tz": -480
    },
    "id": "BoW3mIN8o-Em",
    "outputId": "c19bf6e0-4666-49e3-8026-0b2a7b191403"
   },
   "outputs": [],
   "source": [
    "from tqdm import tqdm\n",
    "# Start classification\n",
    "print(\"Starting clinical note classification with Hugging Face zero-shot model...\\n\")\n",
    "\n",
    "for idx, text in tqdm(enumerate(df_cleaned[\"clinical_note\"]), total=len(df_cleaned), desc=\"Classifying Notes\"):\n",
    "    result = classifier(text, candidate_labels=labels)\n",
    "    df_cleaned.loc[idx, \"note_status\"] = result[\"labels\"][0]  # Choose the most likely label"
   ]
  },
  {
   "cell_type": "code",
   "execution_count": null,
   "metadata": {
    "colab": {
     "base_uri": "https://localhost:8080/",
     "height": 206
    },
    "executionInfo": {
     "elapsed": 1031,
     "status": "ok",
     "timestamp": 1745639343352,
     "user": {
      "displayName": "YI TING WONG",
      "userId": "15776888317096542837"
     },
     "user_tz": -480
    },
    "id": "CHeO3lxdpvqG",
    "outputId": "9aa7f6ea-3caa-4b61-f822-7b6cad663233"
   },
   "outputs": [],
   "source": [
    "# Save classified results\n",
    "df_cleaned.to_csv(my_file_path + \"preprocessing_generate_patient_dataset.csv\", index=False)\n",
    "\n",
    "# Preview sample\n",
    "df_cleaned[[\"patient_id\", \"timestamp\", \"clinical_note\", \"note_status\"]].head()"
   ]
  },
  {
   "cell_type": "code",
   "execution_count": null,
   "metadata": {
    "colab": {
     "base_uri": "https://localhost:8080/",
     "height": 241
    },
    "executionInfo": {
     "elapsed": 22,
     "status": "ok",
     "timestamp": 1745639661801,
     "user": {
      "displayName": "YI TING WONG",
      "userId": "15776888317096542837"
     },
     "user_tz": -480
    },
    "id": "_eBz-ek6OApl",
    "outputId": "ccd19f45-b000-4062-eb8d-810dabf7bca7"
   },
   "outputs": [],
   "source": [
    "# Distribution of classified note_status labels.\n",
    "df_cleaned[\"note_status\"].value_counts()"
   ]
  },
  {
   "cell_type": "markdown",
   "metadata": {
    "id": "Am9Ku-R0Ed-9"
   },
   "source": [
    "# **📝 4. AI-Assisted Summary Report and Visualization**"
   ]
  }
 ],
 "metadata": {
  "colab": {
   "authorship_tag": "ABX9TyNR120+q85bsyio0p3CA1N+",
   "mount_file_id": "1AlG6-XxHVNyOP6qH56rwvGLGuAfcNkl-",
   "provenance": [],
   "toc_visible": true
  },
  "kernelspec": {
   "display_name": "Python 3",
   "name": "python3"
  },
  "language_info": {
   "name": "python"
  },
  "widgets": {
   "application/vnd.jupyter.widget-state+json": {
    "01031e348796411096315bc1b1b34d2b": {
     "model_module": "@jupyter-widgets/controls",
     "model_module_version": "1.5.0",
     "model_name": "ProgressStyleModel",
     "state": {
      "_model_module": "@jupyter-widgets/controls",
      "_model_module_version": "1.5.0",
      "_model_name": "ProgressStyleModel",
      "_view_count": null,
      "_view_module": "@jupyter-widgets/base",
      "_view_module_version": "1.2.0",
      "_view_name": "StyleView",
      "bar_color": null,
      "description_width": ""
     }
    },
    "03887e1c4c3e43f7b5e7399fec98e2b5": {
     "model_module": "@jupyter-widgets/controls",
     "model_module_version": "1.5.0",
     "model_name": "ButtonModel",
     "state": {
      "_dom_classes": [],
      "_model_module": "@jupyter-widgets/controls",
      "_model_module_version": "1.5.0",
      "_model_name": "ButtonModel",
      "_view_count": null,
      "_view_module": "@jupyter-widgets/controls",
      "_view_module_version": "1.5.0",
      "_view_name": "ButtonView",
      "button_style": "",
      "description": "Login",
      "disabled": false,
      "icon": "",
      "layout": "IPY_MODEL_aba9c728c5fc4edc85009f3ff994e92e",
      "style": "IPY_MODEL_102cc3440b1542b88e08baa113b943ca",
      "tooltip": ""
     }
    },
    "068e430b740542eea50593667fdc8552": {
     "model_module": "@jupyter-widgets/controls",
     "model_module_version": "1.5.0",
     "model_name": "ProgressStyleModel",
     "state": {
      "_model_module": "@jupyter-widgets/controls",
      "_model_module_version": "1.5.0",
      "_model_name": "ProgressStyleModel",
      "_view_count": null,
      "_view_module": "@jupyter-widgets/base",
      "_view_module_version": "1.2.0",
      "_view_name": "StyleView",
      "bar_color": null,
      "description_width": ""
     }
    },
    "06c69263c9a949e9a8c2083a0e66047d": {
     "model_module": "@jupyter-widgets/controls",
     "model_module_version": "1.5.0",
     "model_name": "HTMLModel",
     "state": {
      "_dom_classes": [],
      "_model_module": "@jupyter-widgets/controls",
      "_model_module_version": "1.5.0",
      "_model_name": "HTMLModel",
      "_view_count": null,
      "_view_module": "@jupyter-widgets/controls",
      "_view_module_version": "1.5.0",
      "_view_name": "HTMLView",
      "description": "",
      "description_tooltip": null,
      "layout": "IPY_MODEL_8b5a960fb53c419aae92f87f75ffe1c0",
      "placeholder": "​",
      "style": "IPY_MODEL_d4485a0922004240a686df3b9ea58cea",
      "value": "Render HTML: 100%"
     }
    },
    "06d4863487cb4c0f97b88ff33e1fb534": {
     "model_module": "@jupyter-widgets/controls",
     "model_module_version": "1.5.0",
     "model_name": "DescriptionStyleModel",
     "state": {
      "_model_module": "@jupyter-widgets/controls",
      "_model_module_version": "1.5.0",
      "_model_name": "DescriptionStyleModel",
      "_view_count": null,
      "_view_module": "@jupyter-widgets/base",
      "_view_module_version": "1.2.0",
      "_view_name": "StyleView",
      "description_width": ""
     }
    },
    "102cc3440b1542b88e08baa113b943ca": {
     "model_module": "@jupyter-widgets/controls",
     "model_module_version": "1.5.0",
     "model_name": "ButtonStyleModel",
     "state": {
      "_model_module": "@jupyter-widgets/controls",
      "_model_module_version": "1.5.0",
      "_model_name": "ButtonStyleModel",
      "_view_count": null,
      "_view_module": "@jupyter-widgets/base",
      "_view_module_version": "1.2.0",
      "_view_name": "StyleView",
      "button_color": null,
      "font_weight": ""
     }
    },
    "107556f555f74949a783daf01918c1a3": {
     "model_module": "@jupyter-widgets/controls",
     "model_module_version": "1.5.0",
     "model_name": "HTMLModel",
     "state": {
      "_dom_classes": [],
      "_model_module": "@jupyter-widgets/controls",
      "_model_module_version": "1.5.0",
      "_model_name": "HTMLModel",
      "_view_count": null,
      "_view_module": "@jupyter-widgets/controls",
      "_view_module_version": "1.5.0",
      "_view_name": "HTMLView",
      "description": "",
      "description_tooltip": null,
      "layout": "IPY_MODEL_5ff77a7861f24781ac884a2c15d200fc",
      "placeholder": "​",
      "style": "IPY_MODEL_c9ec37223a9e485a9a66dbe19461b641",
      "value": " 1/1 [00:00&lt;00:00,  1.03it/s]"
     }
    },
    "1a85723b52fc4c67ae224a3558b5d927": {
     "model_module": "@jupyter-widgets/controls",
     "model_module_version": "1.5.0",
     "model_name": "HTMLModel",
     "state": {
      "_dom_classes": [],
      "_model_module": "@jupyter-widgets/controls",
      "_model_module_version": "1.5.0",
      "_model_name": "HTMLModel",
      "_view_count": null,
      "_view_module": "@jupyter-widgets/controls",
      "_view_module_version": "1.5.0",
      "_view_name": "HTMLView",
      "description": "",
      "description_tooltip": null,
      "layout": "IPY_MODEL_b19a6d8b8fd14ff79a7468dc22537470",
      "placeholder": "​",
      "style": "IPY_MODEL_e309f9b3e9c540e686b46e02a78bb99a",
      "value": " 44/44 [00:03&lt;00:00,  9.95it/s, Completed]"
     }
    },
    "1b88d324222d43f493112dadfa407387": {
     "model_module": "@jupyter-widgets/base",
     "model_module_version": "1.2.0",
     "model_name": "LayoutModel",
     "state": {
      "_model_module": "@jupyter-widgets/base",
      "_model_module_version": "1.2.0",
      "_model_name": "LayoutModel",
      "_view_count": null,
      "_view_module": "@jupyter-widgets/base",
      "_view_module_version": "1.2.0",
      "_view_name": "LayoutView",
      "align_content": null,
      "align_items": null,
      "align_self": null,
      "border": null,
      "bottom": null,
      "display": null,
      "flex": null,
      "flex_flow": null,
      "grid_area": null,
      "grid_auto_columns": null,
      "grid_auto_flow": null,
      "grid_auto_rows": null,
      "grid_column": null,
      "grid_gap": null,
      "grid_row": null,
      "grid_template_areas": null,
      "grid_template_columns": null,
      "grid_template_rows": null,
      "height": null,
      "justify_content": null,
      "justify_items": null,
      "left": null,
      "margin": null,
      "max_height": null,
      "max_width": null,
      "min_height": null,
      "min_width": null,
      "object_fit": null,
      "object_position": null,
      "order": null,
      "overflow": null,
      "overflow_x": null,
      "overflow_y": null,
      "padding": null,
      "right": null,
      "top": null,
      "visibility": null,
      "width": null
     }
    },
    "1e97671d806c49ed824cdb9972cb7e83": {
     "model_module": "@jupyter-widgets/base",
     "model_module_version": "1.2.0",
     "model_name": "LayoutModel",
     "state": {
      "_model_module": "@jupyter-widgets/base",
      "_model_module_version": "1.2.0",
      "_model_name": "LayoutModel",
      "_view_count": null,
      "_view_module": "@jupyter-widgets/base",
      "_view_module_version": "1.2.0",
      "_view_name": "LayoutView",
      "align_content": null,
      "align_items": null,
      "align_self": null,
      "border": null,
      "bottom": null,
      "display": null,
      "flex": null,
      "flex_flow": null,
      "grid_area": null,
      "grid_auto_columns": null,
      "grid_auto_flow": null,
      "grid_auto_rows": null,
      "grid_column": null,
      "grid_gap": null,
      "grid_row": null,
      "grid_template_areas": null,
      "grid_template_columns": null,
      "grid_template_rows": null,
      "height": null,
      "justify_content": null,
      "justify_items": null,
      "left": null,
      "margin": null,
      "max_height": null,
      "max_width": null,
      "min_height": null,
      "min_width": null,
      "object_fit": null,
      "object_position": null,
      "order": null,
      "overflow": null,
      "overflow_x": null,
      "overflow_y": null,
      "padding": null,
      "right": null,
      "top": null,
      "visibility": null,
      "width": null
     }
    },
    "2575be31d2cd47f3add26ac65a4292b5": {
     "model_module": "@jupyter-widgets/base",
     "model_module_version": "1.2.0",
     "model_name": "LayoutModel",
     "state": {
      "_model_module": "@jupyter-widgets/base",
      "_model_module_version": "1.2.0",
      "_model_name": "LayoutModel",
      "_view_count": null,
      "_view_module": "@jupyter-widgets/base",
      "_view_module_version": "1.2.0",
      "_view_name": "LayoutView",
      "align_content": null,
      "align_items": null,
      "align_self": null,
      "border": null,
      "bottom": null,
      "display": null,
      "flex": null,
      "flex_flow": null,
      "grid_area": null,
      "grid_auto_columns": null,
      "grid_auto_flow": null,
      "grid_auto_rows": null,
      "grid_column": null,
      "grid_gap": null,
      "grid_row": null,
      "grid_template_areas": null,
      "grid_template_columns": null,
      "grid_template_rows": null,
      "height": null,
      "justify_content": null,
      "justify_items": null,
      "left": null,
      "margin": null,
      "max_height": null,
      "max_width": null,
      "min_height": null,
      "min_width": null,
      "object_fit": null,
      "object_position": null,
      "order": null,
      "overflow": null,
      "overflow_x": null,
      "overflow_y": null,
      "padding": null,
      "right": null,
      "top": null,
      "visibility": null,
      "width": null
     }
    },
    "29ab39b1094942ac8eadc9df6e48f282": {
     "model_module": "@jupyter-widgets/controls",
     "model_module_version": "1.5.0",
     "model_name": "DescriptionStyleModel",
     "state": {
      "_model_module": "@jupyter-widgets/controls",
      "_model_module_version": "1.5.0",
      "_model_name": "DescriptionStyleModel",
      "_view_count": null,
      "_view_module": "@jupyter-widgets/base",
      "_view_module_version": "1.2.0",
      "_view_name": "StyleView",
      "description_width": ""
     }
    },
    "2b51c88a635c46019721a0aacd081de2": {
     "model_module": "@jupyter-widgets/base",
     "model_module_version": "1.2.0",
     "model_name": "LayoutModel",
     "state": {
      "_model_module": "@jupyter-widgets/base",
      "_model_module_version": "1.2.0",
      "_model_name": "LayoutModel",
      "_view_count": null,
      "_view_module": "@jupyter-widgets/base",
      "_view_module_version": "1.2.0",
      "_view_name": "LayoutView",
      "align_content": null,
      "align_items": null,
      "align_self": null,
      "border": null,
      "bottom": null,
      "display": null,
      "flex": null,
      "flex_flow": null,
      "grid_area": null,
      "grid_auto_columns": null,
      "grid_auto_flow": null,
      "grid_auto_rows": null,
      "grid_column": null,
      "grid_gap": null,
      "grid_row": null,
      "grid_template_areas": null,
      "grid_template_columns": null,
      "grid_template_rows": null,
      "height": null,
      "justify_content": null,
      "justify_items": null,
      "left": null,
      "margin": null,
      "max_height": null,
      "max_width": null,
      "min_height": null,
      "min_width": null,
      "object_fit": null,
      "object_position": null,
      "order": null,
      "overflow": null,
      "overflow_x": null,
      "overflow_y": null,
      "padding": null,
      "right": null,
      "top": null,
      "visibility": null,
      "width": null
     }
    },
    "2c09f1550503499bbf548fa37d689888": {
     "model_module": "@jupyter-widgets/controls",
     "model_module_version": "1.5.0",
     "model_name": "FloatProgressModel",
     "state": {
      "_dom_classes": [],
      "_model_module": "@jupyter-widgets/controls",
      "_model_module_version": "1.5.0",
      "_model_name": "FloatProgressModel",
      "_view_count": null,
      "_view_module": "@jupyter-widgets/controls",
      "_view_module_version": "1.5.0",
      "_view_name": "ProgressView",
      "bar_style": "success",
      "description": "",
      "description_tooltip": null,
      "layout": "IPY_MODEL_2b51c88a635c46019721a0aacd081de2",
      "max": 1,
      "min": 0,
      "orientation": "horizontal",
      "style": "IPY_MODEL_a453c7e34e5c411d8eed48f988fd35b0",
      "value": 1
     }
    },
    "2c10072762384b6da7c0c720317bdfee": {
     "model_module": "@jupyter-widgets/controls",
     "model_module_version": "1.5.0",
     "model_name": "HTMLModel",
     "state": {
      "_dom_classes": [],
      "_model_module": "@jupyter-widgets/controls",
      "_model_module_version": "1.5.0",
      "_model_name": "HTMLModel",
      "_view_count": null,
      "_view_module": "@jupyter-widgets/controls",
      "_view_module_version": "1.5.0",
      "_view_name": "HTMLView",
      "description": "",
      "description_tooltip": null,
      "layout": "IPY_MODEL_d6911a49f4034fcf8f4f1f2e9e41b654",
      "placeholder": "​",
      "style": "IPY_MODEL_b143c13b623541909d54ae0479b07f87",
      "value": "<center> <img\nsrc=https://huggingface.co/front/assets/huggingface_logo-noborder.svg\nalt='Hugging Face'> <br> Copy a token from <a\nhref=\"https://huggingface.co/settings/tokens\" target=\"_blank\">your Hugging Face\ntokens page</a> and paste it below. <br> Immediately click login after copying\nyour token or it might be stored in plain text in this notebook file. </center>"
     }
    },
    "2f1b8cf00f0e42c9a1f099a61996b0c5": {
     "model_module": "@jupyter-widgets/controls",
     "model_module_version": "1.5.0",
     "model_name": "FloatProgressModel",
     "state": {
      "_dom_classes": [],
      "_model_module": "@jupyter-widgets/controls",
      "_model_module_version": "1.5.0",
      "_model_name": "FloatProgressModel",
      "_view_count": null,
      "_view_module": "@jupyter-widgets/controls",
      "_view_module_version": "1.5.0",
      "_view_name": "ProgressView",
      "bar_style": "success",
      "description": "",
      "description_tooltip": null,
      "layout": "IPY_MODEL_1e97671d806c49ed824cdb9972cb7e83",
      "max": 1,
      "min": 0,
      "orientation": "horizontal",
      "style": "IPY_MODEL_068e430b740542eea50593667fdc8552",
      "value": 1
     }
    },
    "3054db918b944c2fa94e1e45d230838f": {
     "model_module": "@jupyter-widgets/base",
     "model_module_version": "1.2.0",
     "model_name": "LayoutModel",
     "state": {
      "_model_module": "@jupyter-widgets/base",
      "_model_module_version": "1.2.0",
      "_model_name": "LayoutModel",
      "_view_count": null,
      "_view_module": "@jupyter-widgets/base",
      "_view_module_version": "1.2.0",
      "_view_name": "LayoutView",
      "align_content": null,
      "align_items": null,
      "align_self": null,
      "border": null,
      "bottom": null,
      "display": null,
      "flex": null,
      "flex_flow": null,
      "grid_area": null,
      "grid_auto_columns": null,
      "grid_auto_flow": null,
      "grid_auto_rows": null,
      "grid_column": null,
      "grid_gap": null,
      "grid_row": null,
      "grid_template_areas": null,
      "grid_template_columns": null,
      "grid_template_rows": null,
      "height": null,
      "justify_content": null,
      "justify_items": null,
      "left": null,
      "margin": null,
      "max_height": null,
      "max_width": null,
      "min_height": null,
      "min_width": null,
      "object_fit": null,
      "object_position": null,
      "order": null,
      "overflow": null,
      "overflow_x": null,
      "overflow_y": null,
      "padding": null,
      "right": null,
      "top": null,
      "visibility": null,
      "width": null
     }
    },
    "3c51a863fe07484ab98545d4054996dc": {
     "model_module": "@jupyter-widgets/controls",
     "model_module_version": "1.5.0",
     "model_name": "HTMLModel",
     "state": {
      "_dom_classes": [],
      "_model_module": "@jupyter-widgets/controls",
      "_model_module_version": "1.5.0",
      "_model_name": "HTMLModel",
      "_view_count": null,
      "_view_module": "@jupyter-widgets/controls",
      "_view_module_version": "1.5.0",
      "_view_name": "HTMLView",
      "description": "",
      "description_tooltip": null,
      "layout": "IPY_MODEL_5df39787c4ee42ed942caf67cc87c911",
      "placeholder": "​",
      "style": "IPY_MODEL_f8cbaa03072741cebae01a725bfa081b",
      "value": "Summarize dataset: 100%"
     }
    },
    "4025cc3781de417bb43671e006091a0f": {
     "model_module": "@jupyter-widgets/controls",
     "model_module_version": "1.5.0",
     "model_name": "PasswordModel",
     "state": {
      "_dom_classes": [],
      "_model_module": "@jupyter-widgets/controls",
      "_model_module_version": "1.5.0",
      "_model_name": "PasswordModel",
      "_view_count": null,
      "_view_module": "@jupyter-widgets/controls",
      "_view_module_version": "1.5.0",
      "_view_name": "PasswordView",
      "continuous_update": true,
      "description": "Token:",
      "description_tooltip": null,
      "disabled": false,
      "layout": "IPY_MODEL_e2f8cf633d06492db780bed3c5d71976",
      "placeholder": "​",
      "style": "IPY_MODEL_29ab39b1094942ac8eadc9df6e48f282",
      "value": ""
     }
    },
    "418285dac3934e75b351274d92a829f3": {
     "model_module": "@jupyter-widgets/controls",
     "model_module_version": "1.5.0",
     "model_name": "HBoxModel",
     "state": {
      "_dom_classes": [],
      "_model_module": "@jupyter-widgets/controls",
      "_model_module_version": "1.5.0",
      "_model_name": "HBoxModel",
      "_view_count": null,
      "_view_module": "@jupyter-widgets/controls",
      "_view_module_version": "1.5.0",
      "_view_name": "HBoxView",
      "box_style": "",
      "children": [
       "IPY_MODEL_ed8f327e11ef41c79beca52b963deeb4",
       "IPY_MODEL_2f1b8cf00f0e42c9a1f099a61996b0c5",
       "IPY_MODEL_ce121d1c5d434a79a8eac0b35d0e80b0"
      ],
      "layout": "IPY_MODEL_ec20150c291348cba3bdf5ac114e264e"
     }
    },
    "41c50f9ec28d4127b54d30f5e0b57986": {
     "model_module": "@jupyter-widgets/base",
     "model_module_version": "1.2.0",
     "model_name": "LayoutModel",
     "state": {
      "_model_module": "@jupyter-widgets/base",
      "_model_module_version": "1.2.0",
      "_model_name": "LayoutModel",
      "_view_count": null,
      "_view_module": "@jupyter-widgets/base",
      "_view_module_version": "1.2.0",
      "_view_name": "LayoutView",
      "align_content": null,
      "align_items": null,
      "align_self": null,
      "border": null,
      "bottom": null,
      "display": null,
      "flex": null,
      "flex_flow": null,
      "grid_area": null,
      "grid_auto_columns": null,
      "grid_auto_flow": null,
      "grid_auto_rows": null,
      "grid_column": null,
      "grid_gap": null,
      "grid_row": null,
      "grid_template_areas": null,
      "grid_template_columns": null,
      "grid_template_rows": null,
      "height": null,
      "justify_content": null,
      "justify_items": null,
      "left": null,
      "margin": null,
      "max_height": null,
      "max_width": null,
      "min_height": null,
      "min_width": null,
      "object_fit": null,
      "object_position": null,
      "order": null,
      "overflow": null,
      "overflow_x": null,
      "overflow_y": null,
      "padding": null,
      "right": null,
      "top": null,
      "visibility": null,
      "width": null
     }
    },
    "4dce9f90c6fd4c1f8567f820d3980ee6": {
     "model_module": "@jupyter-widgets/controls",
     "model_module_version": "1.5.0",
     "model_name": "DescriptionStyleModel",
     "state": {
      "_model_module": "@jupyter-widgets/controls",
      "_model_module_version": "1.5.0",
      "_model_name": "DescriptionStyleModel",
      "_view_count": null,
      "_view_module": "@jupyter-widgets/base",
      "_view_module_version": "1.2.0",
      "_view_name": "StyleView",
      "description_width": ""
     }
    },
    "53a6939b7e4344d5ab32e5d74fca8a66": {
     "model_module": "@jupyter-widgets/base",
     "model_module_version": "1.2.0",
     "model_name": "LayoutModel",
     "state": {
      "_model_module": "@jupyter-widgets/base",
      "_model_module_version": "1.2.0",
      "_model_name": "LayoutModel",
      "_view_count": null,
      "_view_module": "@jupyter-widgets/base",
      "_view_module_version": "1.2.0",
      "_view_name": "LayoutView",
      "align_content": null,
      "align_items": "center",
      "align_self": null,
      "border": null,
      "bottom": null,
      "display": "flex",
      "flex": null,
      "flex_flow": "column",
      "grid_area": null,
      "grid_auto_columns": null,
      "grid_auto_flow": null,
      "grid_auto_rows": null,
      "grid_column": null,
      "grid_gap": null,
      "grid_row": null,
      "grid_template_areas": null,
      "grid_template_columns": null,
      "grid_template_rows": null,
      "height": null,
      "justify_content": null,
      "justify_items": null,
      "left": null,
      "margin": null,
      "max_height": null,
      "max_width": null,
      "min_height": null,
      "min_width": null,
      "object_fit": null,
      "object_position": null,
      "order": null,
      "overflow": null,
      "overflow_x": null,
      "overflow_y": null,
      "padding": null,
      "right": null,
      "top": null,
      "visibility": null,
      "width": "50%"
     }
    },
    "57475597040846929df1ab1057b2c7e8": {
     "model_module": "@jupyter-widgets/controls",
     "model_module_version": "1.5.0",
     "model_name": "DescriptionStyleModel",
     "state": {
      "_model_module": "@jupyter-widgets/controls",
      "_model_module_version": "1.5.0",
      "_model_name": "DescriptionStyleModel",
      "_view_count": null,
      "_view_module": "@jupyter-widgets/base",
      "_view_module_version": "1.2.0",
      "_view_name": "StyleView",
      "description_width": ""
     }
    },
    "5df39787c4ee42ed942caf67cc87c911": {
     "model_module": "@jupyter-widgets/base",
     "model_module_version": "1.2.0",
     "model_name": "LayoutModel",
     "state": {
      "_model_module": "@jupyter-widgets/base",
      "_model_module_version": "1.2.0",
      "_model_name": "LayoutModel",
      "_view_count": null,
      "_view_module": "@jupyter-widgets/base",
      "_view_module_version": "1.2.0",
      "_view_name": "LayoutView",
      "align_content": null,
      "align_items": null,
      "align_self": null,
      "border": null,
      "bottom": null,
      "display": null,
      "flex": null,
      "flex_flow": null,
      "grid_area": null,
      "grid_auto_columns": null,
      "grid_auto_flow": null,
      "grid_auto_rows": null,
      "grid_column": null,
      "grid_gap": null,
      "grid_row": null,
      "grid_template_areas": null,
      "grid_template_columns": null,
      "grid_template_rows": null,
      "height": null,
      "justify_content": null,
      "justify_items": null,
      "left": null,
      "margin": null,
      "max_height": null,
      "max_width": null,
      "min_height": null,
      "min_width": null,
      "object_fit": null,
      "object_position": null,
      "order": null,
      "overflow": null,
      "overflow_x": null,
      "overflow_y": null,
      "padding": null,
      "right": null,
      "top": null,
      "visibility": null,
      "width": null
     }
    },
    "5ff77a7861f24781ac884a2c15d200fc": {
     "model_module": "@jupyter-widgets/base",
     "model_module_version": "1.2.0",
     "model_name": "LayoutModel",
     "state": {
      "_model_module": "@jupyter-widgets/base",
      "_model_module_version": "1.2.0",
      "_model_name": "LayoutModel",
      "_view_count": null,
      "_view_module": "@jupyter-widgets/base",
      "_view_module_version": "1.2.0",
      "_view_name": "LayoutView",
      "align_content": null,
      "align_items": null,
      "align_self": null,
      "border": null,
      "bottom": null,
      "display": null,
      "flex": null,
      "flex_flow": null,
      "grid_area": null,
      "grid_auto_columns": null,
      "grid_auto_flow": null,
      "grid_auto_rows": null,
      "grid_column": null,
      "grid_gap": null,
      "grid_row": null,
      "grid_template_areas": null,
      "grid_template_columns": null,
      "grid_template_rows": null,
      "height": null,
      "justify_content": null,
      "justify_items": null,
      "left": null,
      "margin": null,
      "max_height": null,
      "max_width": null,
      "min_height": null,
      "min_width": null,
      "object_fit": null,
      "object_position": null,
      "order": null,
      "overflow": null,
      "overflow_x": null,
      "overflow_y": null,
      "padding": null,
      "right": null,
      "top": null,
      "visibility": null,
      "width": null
     }
    },
    "731998220d2349918833fa2429146fbf": {
     "model_module": "@jupyter-widgets/controls",
     "model_module_version": "1.5.0",
     "model_name": "LabelModel",
     "state": {
      "_dom_classes": [],
      "_model_module": "@jupyter-widgets/controls",
      "_model_module_version": "1.5.0",
      "_model_name": "LabelModel",
      "_view_count": null,
      "_view_module": "@jupyter-widgets/controls",
      "_view_module_version": "1.5.0",
      "_view_name": "LabelView",
      "description": "",
      "description_tooltip": null,
      "layout": "IPY_MODEL_d9deba0d4c324bd986c5ba7da9997224",
      "placeholder": "​",
      "style": "IPY_MODEL_76a9a3f1d202454a83ecc57cf167af16",
      "value": "Connecting..."
     }
    },
    "76a9a3f1d202454a83ecc57cf167af16": {
     "model_module": "@jupyter-widgets/controls",
     "model_module_version": "1.5.0",
     "model_name": "DescriptionStyleModel",
     "state": {
      "_model_module": "@jupyter-widgets/controls",
      "_model_module_version": "1.5.0",
      "_model_name": "DescriptionStyleModel",
      "_view_count": null,
      "_view_module": "@jupyter-widgets/base",
      "_view_module_version": "1.2.0",
      "_view_name": "StyleView",
      "description_width": ""
     }
    },
    "77406c04bfcf4dbfaae7ce93fbe252ce": {
     "model_module": "@jupyter-widgets/controls",
     "model_module_version": "1.5.0",
     "model_name": "HBoxModel",
     "state": {
      "_dom_classes": [],
      "_model_module": "@jupyter-widgets/controls",
      "_model_module_version": "1.5.0",
      "_model_name": "HBoxModel",
      "_view_count": null,
      "_view_module": "@jupyter-widgets/controls",
      "_view_module_version": "1.5.0",
      "_view_name": "HBoxView",
      "box_style": "",
      "children": [
       "IPY_MODEL_3c51a863fe07484ab98545d4054996dc",
       "IPY_MODEL_cfeea46cf1474d9392a1950ce2191b72",
       "IPY_MODEL_1a85723b52fc4c67ae224a3558b5d927"
      ],
      "layout": "IPY_MODEL_8727e137e817421ca441277c925613ce"
     }
    },
    "7d7d02b20b854efeaf4b40ba9f1acfea": {
     "model_module": "@jupyter-widgets/controls",
     "model_module_version": "1.5.0",
     "model_name": "HTMLModel",
     "state": {
      "_dom_classes": [],
      "_model_module": "@jupyter-widgets/controls",
      "_model_module_version": "1.5.0",
      "_model_name": "HTMLModel",
      "_view_count": null,
      "_view_module": "@jupyter-widgets/controls",
      "_view_module_version": "1.5.0",
      "_view_name": "HTMLView",
      "description": "",
      "description_tooltip": null,
      "layout": "IPY_MODEL_dc2af02c2af8466e8f7de22a0a57a2b6",
      "placeholder": "​",
      "style": "IPY_MODEL_b29994d6e7c64639b9151cddc5b8e926",
      "value": "Export report to file: 100%"
     }
    },
    "80fec4c9933a42c2b8cdb699d64e87fb": {
     "model_module": "@jupyter-widgets/base",
     "model_module_version": "1.2.0",
     "model_name": "LayoutModel",
     "state": {
      "_model_module": "@jupyter-widgets/base",
      "_model_module_version": "1.2.0",
      "_model_name": "LayoutModel",
      "_view_count": null,
      "_view_module": "@jupyter-widgets/base",
      "_view_module_version": "1.2.0",
      "_view_name": "LayoutView",
      "align_content": null,
      "align_items": null,
      "align_self": null,
      "border": null,
      "bottom": null,
      "display": null,
      "flex": null,
      "flex_flow": null,
      "grid_area": null,
      "grid_auto_columns": null,
      "grid_auto_flow": null,
      "grid_auto_rows": null,
      "grid_column": null,
      "grid_gap": null,
      "grid_row": null,
      "grid_template_areas": null,
      "grid_template_columns": null,
      "grid_template_rows": null,
      "height": null,
      "justify_content": null,
      "justify_items": null,
      "left": null,
      "margin": null,
      "max_height": null,
      "max_width": null,
      "min_height": null,
      "min_width": null,
      "object_fit": null,
      "object_position": null,
      "order": null,
      "overflow": null,
      "overflow_x": null,
      "overflow_y": null,
      "padding": null,
      "right": null,
      "top": null,
      "visibility": null,
      "width": null
     }
    },
    "821dcee9acdd4660b85f9e90c32f35c5": {
     "model_module": "@jupyter-widgets/controls",
     "model_module_version": "1.5.0",
     "model_name": "HTMLModel",
     "state": {
      "_dom_classes": [],
      "_model_module": "@jupyter-widgets/controls",
      "_model_module_version": "1.5.0",
      "_model_name": "HTMLModel",
      "_view_count": null,
      "_view_module": "@jupyter-widgets/controls",
      "_view_module_version": "1.5.0",
      "_view_name": "HTMLView",
      "description": "",
      "description_tooltip": null,
      "layout": "IPY_MODEL_9322058021c54ba0a8e99f6793c1b198",
      "placeholder": "​",
      "style": "IPY_MODEL_06d4863487cb4c0f97b88ff33e1fb534",
      "value": "\n<b>Pro Tip:</b> If you don't already have one, you can create a dedicated\n'notebooks' token with 'write' access, that you can then easily reuse for all\nnotebooks. </center>"
     }
    },
    "8727e137e817421ca441277c925613ce": {
     "model_module": "@jupyter-widgets/base",
     "model_module_version": "1.2.0",
     "model_name": "LayoutModel",
     "state": {
      "_model_module": "@jupyter-widgets/base",
      "_model_module_version": "1.2.0",
      "_model_name": "LayoutModel",
      "_view_count": null,
      "_view_module": "@jupyter-widgets/base",
      "_view_module_version": "1.2.0",
      "_view_name": "LayoutView",
      "align_content": null,
      "align_items": null,
      "align_self": null,
      "border": null,
      "bottom": null,
      "display": null,
      "flex": null,
      "flex_flow": null,
      "grid_area": null,
      "grid_auto_columns": null,
      "grid_auto_flow": null,
      "grid_auto_rows": null,
      "grid_column": null,
      "grid_gap": null,
      "grid_row": null,
      "grid_template_areas": null,
      "grid_template_columns": null,
      "grid_template_rows": null,
      "height": null,
      "justify_content": null,
      "justify_items": null,
      "left": null,
      "margin": null,
      "max_height": null,
      "max_width": null,
      "min_height": null,
      "min_width": null,
      "object_fit": null,
      "object_position": null,
      "order": null,
      "overflow": null,
      "overflow_x": null,
      "overflow_y": null,
      "padding": null,
      "right": null,
      "top": null,
      "visibility": null,
      "width": null
     }
    },
    "8b5a960fb53c419aae92f87f75ffe1c0": {
     "model_module": "@jupyter-widgets/base",
     "model_module_version": "1.2.0",
     "model_name": "LayoutModel",
     "state": {
      "_model_module": "@jupyter-widgets/base",
      "_model_module_version": "1.2.0",
      "_model_name": "LayoutModel",
      "_view_count": null,
      "_view_module": "@jupyter-widgets/base",
      "_view_module_version": "1.2.0",
      "_view_name": "LayoutView",
      "align_content": null,
      "align_items": null,
      "align_self": null,
      "border": null,
      "bottom": null,
      "display": null,
      "flex": null,
      "flex_flow": null,
      "grid_area": null,
      "grid_auto_columns": null,
      "grid_auto_flow": null,
      "grid_auto_rows": null,
      "grid_column": null,
      "grid_gap": null,
      "grid_row": null,
      "grid_template_areas": null,
      "grid_template_columns": null,
      "grid_template_rows": null,
      "height": null,
      "justify_content": null,
      "justify_items": null,
      "left": null,
      "margin": null,
      "max_height": null,
      "max_width": null,
      "min_height": null,
      "min_width": null,
      "object_fit": null,
      "object_position": null,
      "order": null,
      "overflow": null,
      "overflow_x": null,
      "overflow_y": null,
      "padding": null,
      "right": null,
      "top": null,
      "visibility": null,
      "width": null
     }
    },
    "8b6b3b3759a240d1b64be9d8633cd932": {
     "model_module": "@jupyter-widgets/controls",
     "model_module_version": "1.5.0",
     "model_name": "CheckboxModel",
     "state": {
      "_dom_classes": [],
      "_model_module": "@jupyter-widgets/controls",
      "_model_module_version": "1.5.0",
      "_model_name": "CheckboxModel",
      "_view_count": null,
      "_view_module": "@jupyter-widgets/controls",
      "_view_module_version": "1.5.0",
      "_view_name": "CheckboxView",
      "description": "Add token as git credential?",
      "description_tooltip": null,
      "disabled": false,
      "indent": true,
      "layout": "IPY_MODEL_41c50f9ec28d4127b54d30f5e0b57986",
      "style": "IPY_MODEL_57475597040846929df1ab1057b2c7e8",
      "value": true
     }
    },
    "8e15b737d0af4262a0a91fc3f3bc8838": {
     "model_module": "@jupyter-widgets/controls",
     "model_module_version": "1.5.0",
     "model_name": "HBoxModel",
     "state": {
      "_dom_classes": [],
      "_model_module": "@jupyter-widgets/controls",
      "_model_module_version": "1.5.0",
      "_model_name": "HBoxModel",
      "_view_count": null,
      "_view_module": "@jupyter-widgets/controls",
      "_view_module_version": "1.5.0",
      "_view_name": "HBoxView",
      "box_style": "",
      "children": [
       "IPY_MODEL_06c69263c9a949e9a8c2083a0e66047d",
       "IPY_MODEL_b8fde89697fa40c691d0fdefc2c3f7d4",
       "IPY_MODEL_9a5d61351a784a268422d13e975841a2"
      ],
      "layout": "IPY_MODEL_2575be31d2cd47f3add26ac65a4292b5"
     }
    },
    "9322058021c54ba0a8e99f6793c1b198": {
     "model_module": "@jupyter-widgets/base",
     "model_module_version": "1.2.0",
     "model_name": "LayoutModel",
     "state": {
      "_model_module": "@jupyter-widgets/base",
      "_model_module_version": "1.2.0",
      "_model_name": "LayoutModel",
      "_view_count": null,
      "_view_module": "@jupyter-widgets/base",
      "_view_module_version": "1.2.0",
      "_view_name": "LayoutView",
      "align_content": null,
      "align_items": null,
      "align_self": null,
      "border": null,
      "bottom": null,
      "display": null,
      "flex": null,
      "flex_flow": null,
      "grid_area": null,
      "grid_auto_columns": null,
      "grid_auto_flow": null,
      "grid_auto_rows": null,
      "grid_column": null,
      "grid_gap": null,
      "grid_row": null,
      "grid_template_areas": null,
      "grid_template_columns": null,
      "grid_template_rows": null,
      "height": null,
      "justify_content": null,
      "justify_items": null,
      "left": null,
      "margin": null,
      "max_height": null,
      "max_width": null,
      "min_height": null,
      "min_width": null,
      "object_fit": null,
      "object_position": null,
      "order": null,
      "overflow": null,
      "overflow_x": null,
      "overflow_y": null,
      "padding": null,
      "right": null,
      "top": null,
      "visibility": null,
      "width": null
     }
    },
    "9a5d61351a784a268422d13e975841a2": {
     "model_module": "@jupyter-widgets/controls",
     "model_module_version": "1.5.0",
     "model_name": "HTMLModel",
     "state": {
      "_dom_classes": [],
      "_model_module": "@jupyter-widgets/controls",
      "_model_module_version": "1.5.0",
      "_model_name": "HTMLModel",
      "_view_count": null,
      "_view_module": "@jupyter-widgets/controls",
      "_view_module_version": "1.5.0",
      "_view_name": "HTMLView",
      "description": "",
      "description_tooltip": null,
      "layout": "IPY_MODEL_aa908e2aac024695ba6d3104afa4e832",
      "placeholder": "​",
      "style": "IPY_MODEL_acad45d8de5e4867955b8d3e482dcf84",
      "value": " 1/1 [00:01&lt;00:00,  1.01s/it]"
     }
    },
    "a3c62b0dfec34a338fc0f244a3cf1c84": {
     "model_module": "@jupyter-widgets/base",
     "model_module_version": "1.2.0",
     "model_name": "LayoutModel",
     "state": {
      "_model_module": "@jupyter-widgets/base",
      "_model_module_version": "1.2.0",
      "_model_name": "LayoutModel",
      "_view_count": null,
      "_view_module": "@jupyter-widgets/base",
      "_view_module_version": "1.2.0",
      "_view_name": "LayoutView",
      "align_content": null,
      "align_items": null,
      "align_self": null,
      "border": null,
      "bottom": null,
      "display": null,
      "flex": null,
      "flex_flow": null,
      "grid_area": null,
      "grid_auto_columns": null,
      "grid_auto_flow": null,
      "grid_auto_rows": null,
      "grid_column": null,
      "grid_gap": null,
      "grid_row": null,
      "grid_template_areas": null,
      "grid_template_columns": null,
      "grid_template_rows": null,
      "height": null,
      "justify_content": null,
      "justify_items": null,
      "left": null,
      "margin": null,
      "max_height": null,
      "max_width": null,
      "min_height": null,
      "min_width": null,
      "object_fit": null,
      "object_position": null,
      "order": null,
      "overflow": null,
      "overflow_x": null,
      "overflow_y": null,
      "padding": null,
      "right": null,
      "top": null,
      "visibility": null,
      "width": null
     }
    },
    "a453c7e34e5c411d8eed48f988fd35b0": {
     "model_module": "@jupyter-widgets/controls",
     "model_module_version": "1.5.0",
     "model_name": "ProgressStyleModel",
     "state": {
      "_model_module": "@jupyter-widgets/controls",
      "_model_module_version": "1.5.0",
      "_model_name": "ProgressStyleModel",
      "_view_count": null,
      "_view_module": "@jupyter-widgets/base",
      "_view_module_version": "1.2.0",
      "_view_name": "StyleView",
      "bar_color": null,
      "description_width": ""
     }
    },
    "aa908e2aac024695ba6d3104afa4e832": {
     "model_module": "@jupyter-widgets/base",
     "model_module_version": "1.2.0",
     "model_name": "LayoutModel",
     "state": {
      "_model_module": "@jupyter-widgets/base",
      "_model_module_version": "1.2.0",
      "_model_name": "LayoutModel",
      "_view_count": null,
      "_view_module": "@jupyter-widgets/base",
      "_view_module_version": "1.2.0",
      "_view_name": "LayoutView",
      "align_content": null,
      "align_items": null,
      "align_self": null,
      "border": null,
      "bottom": null,
      "display": null,
      "flex": null,
      "flex_flow": null,
      "grid_area": null,
      "grid_auto_columns": null,
      "grid_auto_flow": null,
      "grid_auto_rows": null,
      "grid_column": null,
      "grid_gap": null,
      "grid_row": null,
      "grid_template_areas": null,
      "grid_template_columns": null,
      "grid_template_rows": null,
      "height": null,
      "justify_content": null,
      "justify_items": null,
      "left": null,
      "margin": null,
      "max_height": null,
      "max_width": null,
      "min_height": null,
      "min_width": null,
      "object_fit": null,
      "object_position": null,
      "order": null,
      "overflow": null,
      "overflow_x": null,
      "overflow_y": null,
      "padding": null,
      "right": null,
      "top": null,
      "visibility": null,
      "width": null
     }
    },
    "aba9c728c5fc4edc85009f3ff994e92e": {
     "model_module": "@jupyter-widgets/base",
     "model_module_version": "1.2.0",
     "model_name": "LayoutModel",
     "state": {
      "_model_module": "@jupyter-widgets/base",
      "_model_module_version": "1.2.0",
      "_model_name": "LayoutModel",
      "_view_count": null,
      "_view_module": "@jupyter-widgets/base",
      "_view_module_version": "1.2.0",
      "_view_name": "LayoutView",
      "align_content": null,
      "align_items": null,
      "align_self": null,
      "border": null,
      "bottom": null,
      "display": null,
      "flex": null,
      "flex_flow": null,
      "grid_area": null,
      "grid_auto_columns": null,
      "grid_auto_flow": null,
      "grid_auto_rows": null,
      "grid_column": null,
      "grid_gap": null,
      "grid_row": null,
      "grid_template_areas": null,
      "grid_template_columns": null,
      "grid_template_rows": null,
      "height": null,
      "justify_content": null,
      "justify_items": null,
      "left": null,
      "margin": null,
      "max_height": null,
      "max_width": null,
      "min_height": null,
      "min_width": null,
      "object_fit": null,
      "object_position": null,
      "order": null,
      "overflow": null,
      "overflow_x": null,
      "overflow_y": null,
      "padding": null,
      "right": null,
      "top": null,
      "visibility": null,
      "width": null
     }
    },
    "acad45d8de5e4867955b8d3e482dcf84": {
     "model_module": "@jupyter-widgets/controls",
     "model_module_version": "1.5.0",
     "model_name": "DescriptionStyleModel",
     "state": {
      "_model_module": "@jupyter-widgets/controls",
      "_model_module_version": "1.5.0",
      "_model_name": "DescriptionStyleModel",
      "_view_count": null,
      "_view_module": "@jupyter-widgets/base",
      "_view_module_version": "1.2.0",
      "_view_name": "StyleView",
      "description_width": ""
     }
    },
    "b143c13b623541909d54ae0479b07f87": {
     "model_module": "@jupyter-widgets/controls",
     "model_module_version": "1.5.0",
     "model_name": "DescriptionStyleModel",
     "state": {
      "_model_module": "@jupyter-widgets/controls",
      "_model_module_version": "1.5.0",
      "_model_name": "DescriptionStyleModel",
      "_view_count": null,
      "_view_module": "@jupyter-widgets/base",
      "_view_module_version": "1.2.0",
      "_view_name": "StyleView",
      "description_width": ""
     }
    },
    "b19a6d8b8fd14ff79a7468dc22537470": {
     "model_module": "@jupyter-widgets/base",
     "model_module_version": "1.2.0",
     "model_name": "LayoutModel",
     "state": {
      "_model_module": "@jupyter-widgets/base",
      "_model_module_version": "1.2.0",
      "_model_name": "LayoutModel",
      "_view_count": null,
      "_view_module": "@jupyter-widgets/base",
      "_view_module_version": "1.2.0",
      "_view_name": "LayoutView",
      "align_content": null,
      "align_items": null,
      "align_self": null,
      "border": null,
      "bottom": null,
      "display": null,
      "flex": null,
      "flex_flow": null,
      "grid_area": null,
      "grid_auto_columns": null,
      "grid_auto_flow": null,
      "grid_auto_rows": null,
      "grid_column": null,
      "grid_gap": null,
      "grid_row": null,
      "grid_template_areas": null,
      "grid_template_columns": null,
      "grid_template_rows": null,
      "height": null,
      "justify_content": null,
      "justify_items": null,
      "left": null,
      "margin": null,
      "max_height": null,
      "max_width": null,
      "min_height": null,
      "min_width": null,
      "object_fit": null,
      "object_position": null,
      "order": null,
      "overflow": null,
      "overflow_x": null,
      "overflow_y": null,
      "padding": null,
      "right": null,
      "top": null,
      "visibility": null,
      "width": null
     }
    },
    "b29994d6e7c64639b9151cddc5b8e926": {
     "model_module": "@jupyter-widgets/controls",
     "model_module_version": "1.5.0",
     "model_name": "DescriptionStyleModel",
     "state": {
      "_model_module": "@jupyter-widgets/controls",
      "_model_module_version": "1.5.0",
      "_model_name": "DescriptionStyleModel",
      "_view_count": null,
      "_view_module": "@jupyter-widgets/base",
      "_view_module_version": "1.2.0",
      "_view_name": "StyleView",
      "description_width": ""
     }
    },
    "b70f9f69587c434985fa35a4a9dd5755": {
     "model_module": "@jupyter-widgets/base",
     "model_module_version": "1.2.0",
     "model_name": "LayoutModel",
     "state": {
      "_model_module": "@jupyter-widgets/base",
      "_model_module_version": "1.2.0",
      "_model_name": "LayoutModel",
      "_view_count": null,
      "_view_module": "@jupyter-widgets/base",
      "_view_module_version": "1.2.0",
      "_view_name": "LayoutView",
      "align_content": null,
      "align_items": null,
      "align_self": null,
      "border": null,
      "bottom": null,
      "display": null,
      "flex": null,
      "flex_flow": null,
      "grid_area": null,
      "grid_auto_columns": null,
      "grid_auto_flow": null,
      "grid_auto_rows": null,
      "grid_column": null,
      "grid_gap": null,
      "grid_row": null,
      "grid_template_areas": null,
      "grid_template_columns": null,
      "grid_template_rows": null,
      "height": null,
      "justify_content": null,
      "justify_items": null,
      "left": null,
      "margin": null,
      "max_height": null,
      "max_width": null,
      "min_height": null,
      "min_width": null,
      "object_fit": null,
      "object_position": null,
      "order": null,
      "overflow": null,
      "overflow_x": null,
      "overflow_y": null,
      "padding": null,
      "right": null,
      "top": null,
      "visibility": null,
      "width": null
     }
    },
    "b8fde89697fa40c691d0fdefc2c3f7d4": {
     "model_module": "@jupyter-widgets/controls",
     "model_module_version": "1.5.0",
     "model_name": "FloatProgressModel",
     "state": {
      "_dom_classes": [],
      "_model_module": "@jupyter-widgets/controls",
      "_model_module_version": "1.5.0",
      "_model_name": "FloatProgressModel",
      "_view_count": null,
      "_view_module": "@jupyter-widgets/controls",
      "_view_module_version": "1.5.0",
      "_view_name": "ProgressView",
      "bar_style": "success",
      "description": "",
      "description_tooltip": null,
      "layout": "IPY_MODEL_80fec4c9933a42c2b8cdb699d64e87fb",
      "max": 1,
      "min": 0,
      "orientation": "horizontal",
      "style": "IPY_MODEL_e1668653c29048b7a7c2ff37eae41010",
      "value": 1
     }
    },
    "bb861cf522fa40a2b9c603955d9dfa3d": {
     "model_module": "@jupyter-widgets/controls",
     "model_module_version": "1.5.0",
     "model_name": "HBoxModel",
     "state": {
      "_dom_classes": [],
      "_model_module": "@jupyter-widgets/controls",
      "_model_module_version": "1.5.0",
      "_model_name": "HBoxModel",
      "_view_count": null,
      "_view_module": "@jupyter-widgets/controls",
      "_view_module_version": "1.5.0",
      "_view_name": "HBoxView",
      "box_style": "",
      "children": [
       "IPY_MODEL_7d7d02b20b854efeaf4b40ba9f1acfea",
       "IPY_MODEL_2c09f1550503499bbf548fa37d689888",
       "IPY_MODEL_107556f555f74949a783daf01918c1a3"
      ],
      "layout": "IPY_MODEL_1b88d324222d43f493112dadfa407387"
     }
    },
    "c9ec37223a9e485a9a66dbe19461b641": {
     "model_module": "@jupyter-widgets/controls",
     "model_module_version": "1.5.0",
     "model_name": "DescriptionStyleModel",
     "state": {
      "_model_module": "@jupyter-widgets/controls",
      "_model_module_version": "1.5.0",
      "_model_name": "DescriptionStyleModel",
      "_view_count": null,
      "_view_module": "@jupyter-widgets/base",
      "_view_module_version": "1.2.0",
      "_view_name": "StyleView",
      "description_width": ""
     }
    },
    "ce121d1c5d434a79a8eac0b35d0e80b0": {
     "model_module": "@jupyter-widgets/controls",
     "model_module_version": "1.5.0",
     "model_name": "HTMLModel",
     "state": {
      "_dom_classes": [],
      "_model_module": "@jupyter-widgets/controls",
      "_model_module_version": "1.5.0",
      "_model_name": "HTMLModel",
      "_view_count": null,
      "_view_module": "@jupyter-widgets/controls",
      "_view_module_version": "1.5.0",
      "_view_name": "HTMLView",
      "description": "",
      "description_tooltip": null,
      "layout": "IPY_MODEL_3054db918b944c2fa94e1e45d230838f",
      "placeholder": "​",
      "style": "IPY_MODEL_4dce9f90c6fd4c1f8567f820d3980ee6",
      "value": " 1/1 [00:03&lt;00:00,  3.59s/it]"
     }
    },
    "cfeea46cf1474d9392a1950ce2191b72": {
     "model_module": "@jupyter-widgets/controls",
     "model_module_version": "1.5.0",
     "model_name": "FloatProgressModel",
     "state": {
      "_dom_classes": [],
      "_model_module": "@jupyter-widgets/controls",
      "_model_module_version": "1.5.0",
      "_model_name": "FloatProgressModel",
      "_view_count": null,
      "_view_module": "@jupyter-widgets/controls",
      "_view_module_version": "1.5.0",
      "_view_name": "ProgressView",
      "bar_style": "success",
      "description": "",
      "description_tooltip": null,
      "layout": "IPY_MODEL_a3c62b0dfec34a338fc0f244a3cf1c84",
      "max": 5,
      "min": 0,
      "orientation": "horizontal",
      "style": "IPY_MODEL_01031e348796411096315bc1b1b34d2b",
      "value": 5
     }
    },
    "d4485a0922004240a686df3b9ea58cea": {
     "model_module": "@jupyter-widgets/controls",
     "model_module_version": "1.5.0",
     "model_name": "DescriptionStyleModel",
     "state": {
      "_model_module": "@jupyter-widgets/controls",
      "_model_module_version": "1.5.0",
      "_model_name": "DescriptionStyleModel",
      "_view_count": null,
      "_view_module": "@jupyter-widgets/base",
      "_view_module_version": "1.2.0",
      "_view_name": "StyleView",
      "description_width": ""
     }
    },
    "d61750f639414c2c910ed4b45dbc6f14": {
     "model_module": "@jupyter-widgets/controls",
     "model_module_version": "1.5.0",
     "model_name": "VBoxModel",
     "state": {
      "_dom_classes": [],
      "_model_module": "@jupyter-widgets/controls",
      "_model_module_version": "1.5.0",
      "_model_name": "VBoxModel",
      "_view_count": null,
      "_view_module": "@jupyter-widgets/controls",
      "_view_module_version": "1.5.0",
      "_view_name": "VBoxView",
      "box_style": "",
      "children": [],
      "layout": "IPY_MODEL_53a6939b7e4344d5ab32e5d74fca8a66"
     }
    },
    "d6911a49f4034fcf8f4f1f2e9e41b654": {
     "model_module": "@jupyter-widgets/base",
     "model_module_version": "1.2.0",
     "model_name": "LayoutModel",
     "state": {
      "_model_module": "@jupyter-widgets/base",
      "_model_module_version": "1.2.0",
      "_model_name": "LayoutModel",
      "_view_count": null,
      "_view_module": "@jupyter-widgets/base",
      "_view_module_version": "1.2.0",
      "_view_name": "LayoutView",
      "align_content": null,
      "align_items": null,
      "align_self": null,
      "border": null,
      "bottom": null,
      "display": null,
      "flex": null,
      "flex_flow": null,
      "grid_area": null,
      "grid_auto_columns": null,
      "grid_auto_flow": null,
      "grid_auto_rows": null,
      "grid_column": null,
      "grid_gap": null,
      "grid_row": null,
      "grid_template_areas": null,
      "grid_template_columns": null,
      "grid_template_rows": null,
      "height": null,
      "justify_content": null,
      "justify_items": null,
      "left": null,
      "margin": null,
      "max_height": null,
      "max_width": null,
      "min_height": null,
      "min_width": null,
      "object_fit": null,
      "object_position": null,
      "order": null,
      "overflow": null,
      "overflow_x": null,
      "overflow_y": null,
      "padding": null,
      "right": null,
      "top": null,
      "visibility": null,
      "width": null
     }
    },
    "d9deba0d4c324bd986c5ba7da9997224": {
     "model_module": "@jupyter-widgets/base",
     "model_module_version": "1.2.0",
     "model_name": "LayoutModel",
     "state": {
      "_model_module": "@jupyter-widgets/base",
      "_model_module_version": "1.2.0",
      "_model_name": "LayoutModel",
      "_view_count": null,
      "_view_module": "@jupyter-widgets/base",
      "_view_module_version": "1.2.0",
      "_view_name": "LayoutView",
      "align_content": null,
      "align_items": null,
      "align_self": null,
      "border": null,
      "bottom": null,
      "display": null,
      "flex": null,
      "flex_flow": null,
      "grid_area": null,
      "grid_auto_columns": null,
      "grid_auto_flow": null,
      "grid_auto_rows": null,
      "grid_column": null,
      "grid_gap": null,
      "grid_row": null,
      "grid_template_areas": null,
      "grid_template_columns": null,
      "grid_template_rows": null,
      "height": null,
      "justify_content": null,
      "justify_items": null,
      "left": null,
      "margin": null,
      "max_height": null,
      "max_width": null,
      "min_height": null,
      "min_width": null,
      "object_fit": null,
      "object_position": null,
      "order": null,
      "overflow": null,
      "overflow_x": null,
      "overflow_y": null,
      "padding": null,
      "right": null,
      "top": null,
      "visibility": null,
      "width": null
     }
    },
    "dc2af02c2af8466e8f7de22a0a57a2b6": {
     "model_module": "@jupyter-widgets/base",
     "model_module_version": "1.2.0",
     "model_name": "LayoutModel",
     "state": {
      "_model_module": "@jupyter-widgets/base",
      "_model_module_version": "1.2.0",
      "_model_name": "LayoutModel",
      "_view_count": null,
      "_view_module": "@jupyter-widgets/base",
      "_view_module_version": "1.2.0",
      "_view_name": "LayoutView",
      "align_content": null,
      "align_items": null,
      "align_self": null,
      "border": null,
      "bottom": null,
      "display": null,
      "flex": null,
      "flex_flow": null,
      "grid_area": null,
      "grid_auto_columns": null,
      "grid_auto_flow": null,
      "grid_auto_rows": null,
      "grid_column": null,
      "grid_gap": null,
      "grid_row": null,
      "grid_template_areas": null,
      "grid_template_columns": null,
      "grid_template_rows": null,
      "height": null,
      "justify_content": null,
      "justify_items": null,
      "left": null,
      "margin": null,
      "max_height": null,
      "max_width": null,
      "min_height": null,
      "min_width": null,
      "object_fit": null,
      "object_position": null,
      "order": null,
      "overflow": null,
      "overflow_x": null,
      "overflow_y": null,
      "padding": null,
      "right": null,
      "top": null,
      "visibility": null,
      "width": null
     }
    },
    "e1668653c29048b7a7c2ff37eae41010": {
     "model_module": "@jupyter-widgets/controls",
     "model_module_version": "1.5.0",
     "model_name": "ProgressStyleModel",
     "state": {
      "_model_module": "@jupyter-widgets/controls",
      "_model_module_version": "1.5.0",
      "_model_name": "ProgressStyleModel",
      "_view_count": null,
      "_view_module": "@jupyter-widgets/base",
      "_view_module_version": "1.2.0",
      "_view_name": "StyleView",
      "bar_color": null,
      "description_width": ""
     }
    },
    "e2f8cf633d06492db780bed3c5d71976": {
     "model_module": "@jupyter-widgets/base",
     "model_module_version": "1.2.0",
     "model_name": "LayoutModel",
     "state": {
      "_model_module": "@jupyter-widgets/base",
      "_model_module_version": "1.2.0",
      "_model_name": "LayoutModel",
      "_view_count": null,
      "_view_module": "@jupyter-widgets/base",
      "_view_module_version": "1.2.0",
      "_view_name": "LayoutView",
      "align_content": null,
      "align_items": null,
      "align_self": null,
      "border": null,
      "bottom": null,
      "display": null,
      "flex": null,
      "flex_flow": null,
      "grid_area": null,
      "grid_auto_columns": null,
      "grid_auto_flow": null,
      "grid_auto_rows": null,
      "grid_column": null,
      "grid_gap": null,
      "grid_row": null,
      "grid_template_areas": null,
      "grid_template_columns": null,
      "grid_template_rows": null,
      "height": null,
      "justify_content": null,
      "justify_items": null,
      "left": null,
      "margin": null,
      "max_height": null,
      "max_width": null,
      "min_height": null,
      "min_width": null,
      "object_fit": null,
      "object_position": null,
      "order": null,
      "overflow": null,
      "overflow_x": null,
      "overflow_y": null,
      "padding": null,
      "right": null,
      "top": null,
      "visibility": null,
      "width": null
     }
    },
    "e309f9b3e9c540e686b46e02a78bb99a": {
     "model_module": "@jupyter-widgets/controls",
     "model_module_version": "1.5.0",
     "model_name": "DescriptionStyleModel",
     "state": {
      "_model_module": "@jupyter-widgets/controls",
      "_model_module_version": "1.5.0",
      "_model_name": "DescriptionStyleModel",
      "_view_count": null,
      "_view_module": "@jupyter-widgets/base",
      "_view_module_version": "1.2.0",
      "_view_name": "StyleView",
      "description_width": ""
     }
    },
    "ec20150c291348cba3bdf5ac114e264e": {
     "model_module": "@jupyter-widgets/base",
     "model_module_version": "1.2.0",
     "model_name": "LayoutModel",
     "state": {
      "_model_module": "@jupyter-widgets/base",
      "_model_module_version": "1.2.0",
      "_model_name": "LayoutModel",
      "_view_count": null,
      "_view_module": "@jupyter-widgets/base",
      "_view_module_version": "1.2.0",
      "_view_name": "LayoutView",
      "align_content": null,
      "align_items": null,
      "align_self": null,
      "border": null,
      "bottom": null,
      "display": null,
      "flex": null,
      "flex_flow": null,
      "grid_area": null,
      "grid_auto_columns": null,
      "grid_auto_flow": null,
      "grid_auto_rows": null,
      "grid_column": null,
      "grid_gap": null,
      "grid_row": null,
      "grid_template_areas": null,
      "grid_template_columns": null,
      "grid_template_rows": null,
      "height": null,
      "justify_content": null,
      "justify_items": null,
      "left": null,
      "margin": null,
      "max_height": null,
      "max_width": null,
      "min_height": null,
      "min_width": null,
      "object_fit": null,
      "object_position": null,
      "order": null,
      "overflow": null,
      "overflow_x": null,
      "overflow_y": null,
      "padding": null,
      "right": null,
      "top": null,
      "visibility": null,
      "width": null
     }
    },
    "ed8f327e11ef41c79beca52b963deeb4": {
     "model_module": "@jupyter-widgets/controls",
     "model_module_version": "1.5.0",
     "model_name": "HTMLModel",
     "state": {
      "_dom_classes": [],
      "_model_module": "@jupyter-widgets/controls",
      "_model_module_version": "1.5.0",
      "_model_name": "HTMLModel",
      "_view_count": null,
      "_view_module": "@jupyter-widgets/controls",
      "_view_module_version": "1.5.0",
      "_view_name": "HTMLView",
      "description": "",
      "description_tooltip": null,
      "layout": "IPY_MODEL_b70f9f69587c434985fa35a4a9dd5755",
      "placeholder": "​",
      "style": "IPY_MODEL_f1a2e4e87af34b779bb5892ff6ab5d85",
      "value": "Generate report structure: 100%"
     }
    },
    "f1a2e4e87af34b779bb5892ff6ab5d85": {
     "model_module": "@jupyter-widgets/controls",
     "model_module_version": "1.5.0",
     "model_name": "DescriptionStyleModel",
     "state": {
      "_model_module": "@jupyter-widgets/controls",
      "_model_module_version": "1.5.0",
      "_model_name": "DescriptionStyleModel",
      "_view_count": null,
      "_view_module": "@jupyter-widgets/base",
      "_view_module_version": "1.2.0",
      "_view_name": "StyleView",
      "description_width": ""
     }
    },
    "f8cbaa03072741cebae01a725bfa081b": {
     "model_module": "@jupyter-widgets/controls",
     "model_module_version": "1.5.0",
     "model_name": "DescriptionStyleModel",
     "state": {
      "_model_module": "@jupyter-widgets/controls",
      "_model_module_version": "1.5.0",
      "_model_name": "DescriptionStyleModel",
      "_view_count": null,
      "_view_module": "@jupyter-widgets/base",
      "_view_module_version": "1.2.0",
      "_view_name": "StyleView",
      "description_width": ""
     }
    }
   }
  }
 },
 "nbformat": 4,
 "nbformat_minor": 0
}
